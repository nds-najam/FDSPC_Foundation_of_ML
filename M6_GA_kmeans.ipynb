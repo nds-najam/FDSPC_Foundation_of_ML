{
 "cells": [
  {
   "cell_type": "markdown",
   "id": "c6b5ccc9",
   "metadata": {
    "deletable": false,
    "editable": false,
    "nbgrader": {
     "cell_type": "markdown",
     "checksum": "1028c5c37588df0a1ec068be334bc98c",
     "grade": false,
     "grade_id": "cell-ac6c915de2694980",
     "locked": true,
     "schema_version": 3,
     "solution": false,
     "task": false
    }
   },
   "source": [
    "# Problem Statement\n",
    "\n",
    "TapToBuy is an online grocery store which has been facing stiff competition from competitors off-late. One of the major factors why people have started using products from its competitors is their personalized marketing campaigns. Determined to bridge this gap, TapToBuy has decided to do a __Customer Segmentation__ based on the customer dataset to plan personalized marketing campaigns. Lets help the marketing head, segment the customers, using our knowledge of unsupervised models."
   ]
  },
  {
   "cell_type": "markdown",
   "id": "95b63793",
   "metadata": {
    "deletable": false,
    "editable": false,
    "nbgrader": {
     "cell_type": "markdown",
     "checksum": "754ef8d5569a16105b8a81e8e2fe6902",
     "grade": false,
     "grade_id": "cell-672ccba6e99f67db",
     "locked": true,
     "schema_version": 3,
     "solution": false,
     "task": false
    }
   },
   "source": [
    "# Dataset Overview\n",
    "\n",
    "The dataset for TapToBuy contains __4,832 rows__ and __9 columns__. The dataset appears to represent customer demographic and behavioral data, likely for a retail or e-commerce context. \n",
    "\n",
    "__Here's the data dictionary for the TapToBuy dataset!__\n",
    "\n",
    "__ID:__ A unique identifier for each record in the dataset. It's an integer and has no missing values.\n",
    "\n",
    "__Gender:__ Categorical variable representing the gender of the customer. It's a non-null object type, indicating text entries like 'Male', 'Female', etc.\n",
    "\n",
    "<b>__Ever_Married:__</b> Categorical variable indicating the marital status of the customer. It contains values like 'Yes' and 'No'. There are missing values in this column, which may need imputation or treatment for certain analyses.\n",
    "\n",
    "__Age:__ Represents the age of the customer. It's a numerical variable and has no missing values. The dataset needs to be checked for any anomalous or unrealistic age values.\n",
    "\n",
    "__Graduated:__ Categorical variable indicating whether the customer has graduated (likely from higher education). Contains values like 'Yes' and 'No'. Some missing values are present.\n",
    "\n",
    "__Profession:__ Represents the profession of the customer. It's a categorical variable with various text entries like 'Healthcare', 'Engineer', etc. There are some missing values in this column.\n",
    "\n",
    "<b>__Work_Experience:__</b> Numerical variable indicating the years of work experience. This column has missing values and is represented as a floating-point number, which might indicate that partial years of experience are recorded.\n",
    "\n",
    "<b>__Spending_Score:__ </b>Categorical variable representing the customer's spending behavior or creditworthiness. Possible values include 'Low', 'Average', 'High', etc.\n",
    "\n",
    "<b>__Family_Size:__</b> A numerical variable indicating the size of the customer's family. It's a floating-point number and has missing values, which suggests variation in family sizes and possibly incomplete records.\n",
    "\n"
   ]
  },
  {
   "cell_type": "markdown",
   "id": "edf8b487",
   "metadata": {
    "deletable": false,
    "editable": false,
    "nbgrader": {
     "cell_type": "markdown",
     "checksum": "aa609f4c135a978fa4247c851aabe141",
     "grade": false,
     "grade_id": "cell-d0b3a2208909d65e",
     "locked": true,
     "schema_version": 3,
     "solution": false,
     "task": false
    }
   },
   "source": [
    "Let us begin by importing the necessary libraries and reading the dataset."
   ]
  },
  {
   "cell_type": "code",
   "execution_count": 29,
   "id": "2a8e47c0",
   "metadata": {
    "deletable": false,
    "editable": false,
    "nbgrader": {
     "cell_type": "code",
     "checksum": "ef137576178eeb66133d48973d48a9a4",
     "grade": false,
     "grade_id": "cell-5199f7d4c6fae78a",
     "locked": true,
     "schema_version": 3,
     "solution": false,
     "task": false
    }
   },
   "outputs": [],
   "source": [
    "# Necessary library imports for data processing and KNN\n",
    "import pandas as pd\n",
    "import numpy as np\n",
    "import matplotlib.pyplot as plt\n",
    "from sklearn.model_selection import train_test_split\n",
    "from sklearn.preprocessing import StandardScaler\n",
    "from sklearn.impute import SimpleImputer\n",
    "from sklearn.cluster import KMeans"
   ]
  },
  {
   "cell_type": "code",
   "execution_count": 30,
   "id": "6c04e4eb",
   "metadata": {
    "deletable": false,
    "editable": false,
    "nbgrader": {
     "cell_type": "code",
     "checksum": "ae843673d4d02241775a1386ed9e0bb2",
     "grade": false,
     "grade_id": "cell-c217256a42e2778f",
     "locked": true,
     "schema_version": 3,
     "solution": false,
     "task": false
    }
   },
   "outputs": [
    {
     "data": {
      "text/html": [
       "<div>\n",
       "<style scoped>\n",
       "    .dataframe tbody tr th:only-of-type {\n",
       "        vertical-align: middle;\n",
       "    }\n",
       "\n",
       "    .dataframe tbody tr th {\n",
       "        vertical-align: top;\n",
       "    }\n",
       "\n",
       "    .dataframe thead th {\n",
       "        text-align: right;\n",
       "    }\n",
       "</style>\n",
       "<table border=\"1\" class=\"dataframe\">\n",
       "  <thead>\n",
       "    <tr style=\"text-align: right;\">\n",
       "      <th></th>\n",
       "      <th>ID</th>\n",
       "      <th>Gender</th>\n",
       "      <th>Ever_Married</th>\n",
       "      <th>Age</th>\n",
       "      <th>Graduated</th>\n",
       "      <th>Profession</th>\n",
       "      <th>Work_Experience</th>\n",
       "      <th>Spending_Score</th>\n",
       "      <th>Family_Size</th>\n",
       "    </tr>\n",
       "  </thead>\n",
       "  <tbody>\n",
       "    <tr>\n",
       "      <th>0</th>\n",
       "      <td>462809</td>\n",
       "      <td>Male</td>\n",
       "      <td>No</td>\n",
       "      <td>22</td>\n",
       "      <td>No</td>\n",
       "      <td>Healthcare</td>\n",
       "      <td>1.0</td>\n",
       "      <td>Low</td>\n",
       "      <td>4.0</td>\n",
       "    </tr>\n",
       "    <tr>\n",
       "      <th>1</th>\n",
       "      <td>462643</td>\n",
       "      <td>Female</td>\n",
       "      <td>Yes</td>\n",
       "      <td>38</td>\n",
       "      <td>Yes</td>\n",
       "      <td>Engineer</td>\n",
       "      <td>NaN</td>\n",
       "      <td>Average</td>\n",
       "      <td>3.0</td>\n",
       "    </tr>\n",
       "    <tr>\n",
       "      <th>2</th>\n",
       "      <td>466315</td>\n",
       "      <td>Female</td>\n",
       "      <td>Yes</td>\n",
       "      <td>67</td>\n",
       "      <td>Yes</td>\n",
       "      <td>Engineer</td>\n",
       "      <td>1.0</td>\n",
       "      <td>Low</td>\n",
       "      <td>1.0</td>\n",
       "    </tr>\n",
       "    <tr>\n",
       "      <th>3</th>\n",
       "      <td>461735</td>\n",
       "      <td>Male</td>\n",
       "      <td>Yes</td>\n",
       "      <td>67</td>\n",
       "      <td>Yes</td>\n",
       "      <td>Lawyer</td>\n",
       "      <td>0.0</td>\n",
       "      <td>High</td>\n",
       "      <td>2.0</td>\n",
       "    </tr>\n",
       "    <tr>\n",
       "      <th>4</th>\n",
       "      <td>462669</td>\n",
       "      <td>Female</td>\n",
       "      <td>Yes</td>\n",
       "      <td>40</td>\n",
       "      <td>Yes</td>\n",
       "      <td>Entertainment</td>\n",
       "      <td>NaN</td>\n",
       "      <td>High</td>\n",
       "      <td>6.0</td>\n",
       "    </tr>\n",
       "    <tr>\n",
       "      <th>...</th>\n",
       "      <td>...</td>\n",
       "      <td>...</td>\n",
       "      <td>...</td>\n",
       "      <td>...</td>\n",
       "      <td>...</td>\n",
       "      <td>...</td>\n",
       "      <td>...</td>\n",
       "      <td>...</td>\n",
       "      <td>...</td>\n",
       "    </tr>\n",
       "    <tr>\n",
       "      <th>4827</th>\n",
       "      <td>462041</td>\n",
       "      <td>Female</td>\n",
       "      <td>No</td>\n",
       "      <td>22</td>\n",
       "      <td>No</td>\n",
       "      <td>Doctor</td>\n",
       "      <td>0.0</td>\n",
       "      <td>Low</td>\n",
       "      <td>2.0</td>\n",
       "    </tr>\n",
       "    <tr>\n",
       "      <th>4828</th>\n",
       "      <td>459539</td>\n",
       "      <td>Female</td>\n",
       "      <td>No</td>\n",
       "      <td>35</td>\n",
       "      <td>Yes</td>\n",
       "      <td>Healthcare</td>\n",
       "      <td>9.0</td>\n",
       "      <td>Low</td>\n",
       "      <td>1.0</td>\n",
       "    </tr>\n",
       "    <tr>\n",
       "      <th>4829</th>\n",
       "      <td>466158</td>\n",
       "      <td>Female</td>\n",
       "      <td>Yes</td>\n",
       "      <td>47</td>\n",
       "      <td>Yes</td>\n",
       "      <td>Engineer</td>\n",
       "      <td>0.0</td>\n",
       "      <td>Low</td>\n",
       "      <td>4.0</td>\n",
       "    </tr>\n",
       "    <tr>\n",
       "      <th>4830</th>\n",
       "      <td>460430</td>\n",
       "      <td>Male</td>\n",
       "      <td>No</td>\n",
       "      <td>32</td>\n",
       "      <td>No</td>\n",
       "      <td>Doctor</td>\n",
       "      <td>12.0</td>\n",
       "      <td>Low</td>\n",
       "      <td>4.0</td>\n",
       "    </tr>\n",
       "    <tr>\n",
       "      <th>4831</th>\n",
       "      <td>461953</td>\n",
       "      <td>Male</td>\n",
       "      <td>Yes</td>\n",
       "      <td>33</td>\n",
       "      <td>No</td>\n",
       "      <td>Healthcare</td>\n",
       "      <td>11.0</td>\n",
       "      <td>High</td>\n",
       "      <td>2.0</td>\n",
       "    </tr>\n",
       "  </tbody>\n",
       "</table>\n",
       "<p>4832 rows × 9 columns</p>\n",
       "</div>"
      ],
      "text/plain": [
       "          ID  Gender Ever_Married  Age Graduated     Profession  \\\n",
       "0     462809    Male           No   22        No     Healthcare   \n",
       "1     462643  Female          Yes   38       Yes       Engineer   \n",
       "2     466315  Female          Yes   67       Yes       Engineer   \n",
       "3     461735    Male          Yes   67       Yes         Lawyer   \n",
       "4     462669  Female          Yes   40       Yes  Entertainment   \n",
       "...      ...     ...          ...  ...       ...            ...   \n",
       "4827  462041  Female           No   22        No         Doctor   \n",
       "4828  459539  Female           No   35       Yes     Healthcare   \n",
       "4829  466158  Female          Yes   47       Yes       Engineer   \n",
       "4830  460430    Male           No   32        No         Doctor   \n",
       "4831  461953    Male          Yes   33        No     Healthcare   \n",
       "\n",
       "      Work_Experience Spending_Score  Family_Size  \n",
       "0                 1.0            Low          4.0  \n",
       "1                 NaN        Average          3.0  \n",
       "2                 1.0            Low          1.0  \n",
       "3                 0.0           High          2.0  \n",
       "4                 NaN           High          6.0  \n",
       "...               ...            ...          ...  \n",
       "4827              0.0            Low          2.0  \n",
       "4828              9.0            Low          1.0  \n",
       "4829              0.0            Low          4.0  \n",
       "4830             12.0            Low          4.0  \n",
       "4831             11.0           High          2.0  \n",
       "\n",
       "[4832 rows x 9 columns]"
      ]
     },
     "execution_count": 30,
     "metadata": {},
     "output_type": "execute_result"
    }
   ],
   "source": [
    "# Load the dataset\n",
    "df = pd.read_csv('TapToBuy.csv')\n",
    "df"
   ]
  },
  {
   "cell_type": "markdown",
   "id": "7a96194c",
   "metadata": {
    "deletable": false,
    "editable": false,
    "nbgrader": {
     "cell_type": "markdown",
     "checksum": "15f2d04c30fddc3d91a3c20dc89564b4",
     "grade": false,
     "grade_id": "cell-972fcd52e20deea4",
     "locked": true,
     "schema_version": 3,
     "solution": false,
     "task": false
    }
   },
   "source": [
    "Our data frame “df” has __4289 rows__ and __9 columns__ in it. We do not require all the columns but only the most relevant ones that are key to the model creation process. Select only those important columns. The columns we need are ['Age', 'Work_Experience', 'Spending_Score', 'Family_Size'].\n",
    "\n",
    "__NOTE:__ We will name the list for selecting the columns as <b>selected_columns</b> and the aggregated data frame as <b>df_selected</b>."
   ]
  },
  {
   "cell_type": "code",
   "execution_count": 31,
   "id": "985fc7e8",
   "metadata": {
    "deletable": false,
    "nbgrader": {
     "cell_type": "code",
     "checksum": "8ec3f61c151e5147a30987628b49a79a",
     "grade": false,
     "grade_id": "cell-68390b10c6c4d176",
     "locked": false,
     "schema_version": 3,
     "solution": true,
     "task": false
    }
   },
   "outputs": [
    {
     "data": {
      "text/html": [
       "<div>\n",
       "<style scoped>\n",
       "    .dataframe tbody tr th:only-of-type {\n",
       "        vertical-align: middle;\n",
       "    }\n",
       "\n",
       "    .dataframe tbody tr th {\n",
       "        vertical-align: top;\n",
       "    }\n",
       "\n",
       "    .dataframe thead th {\n",
       "        text-align: right;\n",
       "    }\n",
       "</style>\n",
       "<table border=\"1\" class=\"dataframe\">\n",
       "  <thead>\n",
       "    <tr style=\"text-align: right;\">\n",
       "      <th></th>\n",
       "      <th>Age</th>\n",
       "      <th>Work_Experience</th>\n",
       "      <th>Spending_Score</th>\n",
       "      <th>Family_Size</th>\n",
       "    </tr>\n",
       "  </thead>\n",
       "  <tbody>\n",
       "    <tr>\n",
       "      <th>0</th>\n",
       "      <td>22</td>\n",
       "      <td>1.0</td>\n",
       "      <td>Low</td>\n",
       "      <td>4.0</td>\n",
       "    </tr>\n",
       "    <tr>\n",
       "      <th>1</th>\n",
       "      <td>38</td>\n",
       "      <td>NaN</td>\n",
       "      <td>Average</td>\n",
       "      <td>3.0</td>\n",
       "    </tr>\n",
       "    <tr>\n",
       "      <th>2</th>\n",
       "      <td>67</td>\n",
       "      <td>1.0</td>\n",
       "      <td>Low</td>\n",
       "      <td>1.0</td>\n",
       "    </tr>\n",
       "    <tr>\n",
       "      <th>3</th>\n",
       "      <td>67</td>\n",
       "      <td>0.0</td>\n",
       "      <td>High</td>\n",
       "      <td>2.0</td>\n",
       "    </tr>\n",
       "    <tr>\n",
       "      <th>4</th>\n",
       "      <td>40</td>\n",
       "      <td>NaN</td>\n",
       "      <td>High</td>\n",
       "      <td>6.0</td>\n",
       "    </tr>\n",
       "  </tbody>\n",
       "</table>\n",
       "</div>"
      ],
      "text/plain": [
       "   Age  Work_Experience Spending_Score  Family_Size\n",
       "0   22              1.0            Low          4.0\n",
       "1   38              NaN        Average          3.0\n",
       "2   67              1.0            Low          1.0\n",
       "3   67              0.0           High          2.0\n",
       "4   40              NaN           High          6.0"
      ]
     },
     "execution_count": 31,
     "metadata": {},
     "output_type": "execute_result"
    }
   ],
   "source": [
    "# Selecting the most relevant columns for clustering\n",
    "selected_columns = ['Age', 'Work_Experience', 'Spending_Score', 'Family_Size']\n",
    "\n",
    "# create df_selected dataframe assuming 'df' is your original DataFrame\n",
    "# your code here\n",
    "# raise NotImplementedError\n",
    "df_selected = df[selected_columns]\n",
    "\n",
    "df_selected.head()\n"
   ]
  },
  {
   "cell_type": "code",
   "execution_count": 32,
   "id": "5a35b3ca",
   "metadata": {
    "deletable": false,
    "editable": false,
    "nbgrader": {
     "cell_type": "code",
     "checksum": "4312a406eb6e3c2c3083e7537f68e0c5",
     "grade": true,
     "grade_id": "cell-c1fa234ae066abcb",
     "locked": true,
     "points": 3,
     "schema_version": 3,
     "solution": false,
     "task": false
    }
   },
   "outputs": [],
   "source": [
    "assert df_selected.shape == (4832, 4), 'Make sure to name your list for selecting the columns as selected_columns and the aggregated data frame as df_selected.'"
   ]
  },
  {
   "cell_type": "markdown",
   "id": "2ec1a3ee",
   "metadata": {
    "deletable": false,
    "editable": false,
    "nbgrader": {
     "cell_type": "markdown",
     "checksum": "bc81859dab058e64d9f3f56ad247ad3d",
     "grade": false,
     "grade_id": "cell-8ad62bc2c7c51fd7",
     "locked": true,
     "schema_version": 3,
     "solution": false,
     "task": false
    }
   },
   "source": [
    "# Check for missing values"
   ]
  },
  {
   "cell_type": "markdown",
   "id": "780bf74e",
   "metadata": {
    "deletable": false,
    "editable": false,
    "nbgrader": {
     "cell_type": "markdown",
     "checksum": "d744f711419a8b8c59c7faeb75a3043b",
     "grade": false,
     "grade_id": "cell-5269cc8027e7a024",
     "locked": true,
     "schema_version": 3,
     "solution": false,
     "task": false
    }
   },
   "source": [
    "Now let us check the missing values. And impute them if any."
   ]
  },
  {
   "cell_type": "code",
   "execution_count": 33,
   "id": "580e3094",
   "metadata": {
    "deletable": false,
    "editable": false,
    "nbgrader": {
     "cell_type": "code",
     "checksum": "ee19458d588bee294dcf708ba9fc915a",
     "grade": false,
     "grade_id": "cell-1a6346f4c0c4fcb3",
     "locked": true,
     "schema_version": 3,
     "solution": false,
     "task": false
    }
   },
   "outputs": [
    {
     "data": {
      "text/plain": [
       "Age                  0\n",
       "Work_Experience    483\n",
       "Spending_Score       0\n",
       "Family_Size        203\n",
       "dtype: int64"
      ]
     },
     "execution_count": 33,
     "metadata": {},
     "output_type": "execute_result"
    }
   ],
   "source": [
    "# Identify missing values in data_selected\n",
    "df_selected.isnull().sum()"
   ]
  },
  {
   "cell_type": "markdown",
   "id": "f069d9fe",
   "metadata": {
    "deletable": false,
    "editable": false,
    "nbgrader": {
     "cell_type": "markdown",
     "checksum": "65f631142fd4cbffdf669b0f1044f732",
     "grade": false,
     "grade_id": "cell-e6a4123250dafae0",
     "locked": true,
     "schema_version": 3,
     "solution": false,
     "task": false
    }
   },
   "source": [
    "Let's impute the 'Family_Size' and 'Work_Experience' columns with their respective medians."
   ]
  },
  {
   "cell_type": "code",
   "execution_count": 34,
   "id": "d4123a77",
   "metadata": {
    "deletable": false,
    "nbgrader": {
     "cell_type": "code",
     "checksum": "e93a9a84087e19281f186ac57a3ee1c9",
     "grade": false,
     "grade_id": "cell-377aeffe15fac890",
     "locked": false,
     "schema_version": 3,
     "solution": true,
     "task": false
    }
   },
   "outputs": [],
   "source": [
    "# Filling null values in 'Family_Size' column with its median\n",
    "# your code here\n",
    "# raise NotImplementedError\n",
    "df_selected['Family_Size'].fillna(df_selected['Family_Size'].median(),inplace=True)"
   ]
  },
  {
   "cell_type": "code",
   "execution_count": 35,
   "id": "50ec08cf",
   "metadata": {
    "deletable": false,
    "nbgrader": {
     "cell_type": "code",
     "checksum": "b15d9a2b4d91228119c2228dcd64d6ca",
     "grade": false,
     "grade_id": "cell-0b7fde30dfd10153",
     "locked": false,
     "schema_version": 3,
     "solution": true,
     "task": false
    }
   },
   "outputs": [],
   "source": [
    "# Filling null values in 'Work_Experience' column with its median\n",
    "# your code here\n",
    "# raise NotImplementedError\n",
    "df_selected['Work_Experience'].fillna(df_selected['Work_Experience'].median(),inplace=True)"
   ]
  },
  {
   "cell_type": "code",
   "execution_count": 36,
   "id": "0229f3bc",
   "metadata": {
    "deletable": false,
    "editable": false,
    "nbgrader": {
     "cell_type": "code",
     "checksum": "99076fa1210d1a44f3e6a20de25ef8be",
     "grade": true,
     "grade_id": "cell-75ac390b32f87a2d",
     "locked": true,
     "points": 3,
     "schema_version": 3,
     "solution": false,
     "task": false
    }
   },
   "outputs": [],
   "source": [
    "assert len(df_selected[df_selected.Family_Size.isna()]) == 0, 'The column \"Family_Size\" still has missing values, make sure to impute them properly with the median values'\n",
    "assert len(df_selected[df_selected.Work_Experience.isna()]) == 0, 'The column \"Work_Experience\" still has missing values, make sure to impute them properly with the median values'"
   ]
  },
  {
   "cell_type": "markdown",
   "id": "78b46ea4",
   "metadata": {
    "deletable": false,
    "editable": false,
    "nbgrader": {
     "cell_type": "markdown",
     "checksum": "9aed42c4d9854b8d1d462a63bc46cc37",
     "grade": false,
     "grade_id": "cell-4fef1b600218120a",
     "locked": true,
     "schema_version": 3,
     "solution": false,
     "task": false
    }
   },
   "source": [
    "Let's check if there are any null values left."
   ]
  },
  {
   "cell_type": "code",
   "execution_count": 37,
   "id": "b9c37174",
   "metadata": {
    "deletable": false,
    "editable": false,
    "nbgrader": {
     "cell_type": "code",
     "checksum": "56351b1f1e6719ce5e2d279cb2ea5bf7",
     "grade": false,
     "grade_id": "cell-0867a6d5d454d8b2",
     "locked": true,
     "schema_version": 3,
     "solution": false,
     "task": false
    }
   },
   "outputs": [
    {
     "data": {
      "text/plain": [
       "Age                0\n",
       "Work_Experience    0\n",
       "Spending_Score     0\n",
       "Family_Size        0\n",
       "dtype: int64"
      ]
     },
     "execution_count": 37,
     "metadata": {},
     "output_type": "execute_result"
    }
   ],
   "source": [
    "# Checking null values in df_selected dataframe\n",
    "df_selected.isnull().sum()"
   ]
  },
  {
   "cell_type": "markdown",
   "id": "2c694e13",
   "metadata": {
    "deletable": false,
    "editable": false,
    "nbgrader": {
     "cell_type": "markdown",
     "checksum": "64381f7688d4990af48dc76219fa3f1b",
     "grade": false,
     "grade_id": "cell-532351c8534aa205",
     "locked": true,
     "schema_version": 3,
     "solution": false,
     "task": false
    }
   },
   "source": [
    "# Encode and Scaling Data"
   ]
  },
  {
   "cell_type": "markdown",
   "id": "d91907bb",
   "metadata": {
    "deletable": false,
    "editable": false,
    "nbgrader": {
     "cell_type": "markdown",
     "checksum": "8eb6ce325f72786f53a3f305c2ae4c42",
     "grade": false,
     "grade_id": "cell-5cb4d731f20b7a62",
     "locked": true,
     "schema_version": 3,
     "solution": false,
     "task": false
    }
   },
   "source": [
    "Now we will encode the Spending_Score column first using __one-hot encoding__ and then name the encoded dataframe as <b>data_encoded</b>."
   ]
  },
  {
   "cell_type": "code",
   "execution_count": 38,
   "id": "9fef6d17",
   "metadata": {
    "deletable": false,
    "nbgrader": {
     "cell_type": "code",
     "checksum": "287649211a2677c7fca5c62d7b0a41f7",
     "grade": false,
     "grade_id": "cell-1088a149795d79d8",
     "locked": false,
     "schema_version": 3,
     "solution": true,
     "task": false
    }
   },
   "outputs": [
    {
     "data": {
      "text/html": [
       "<div>\n",
       "<style scoped>\n",
       "    .dataframe tbody tr th:only-of-type {\n",
       "        vertical-align: middle;\n",
       "    }\n",
       "\n",
       "    .dataframe tbody tr th {\n",
       "        vertical-align: top;\n",
       "    }\n",
       "\n",
       "    .dataframe thead th {\n",
       "        text-align: right;\n",
       "    }\n",
       "</style>\n",
       "<table border=\"1\" class=\"dataframe\">\n",
       "  <thead>\n",
       "    <tr style=\"text-align: right;\">\n",
       "      <th></th>\n",
       "      <th>Age</th>\n",
       "      <th>Work_Experience</th>\n",
       "      <th>Family_Size</th>\n",
       "      <th>Spending_Score_Average</th>\n",
       "      <th>Spending_Score_High</th>\n",
       "      <th>Spending_Score_Low</th>\n",
       "    </tr>\n",
       "  </thead>\n",
       "  <tbody>\n",
       "    <tr>\n",
       "      <th>0</th>\n",
       "      <td>22</td>\n",
       "      <td>1.0</td>\n",
       "      <td>4.0</td>\n",
       "      <td>0</td>\n",
       "      <td>0</td>\n",
       "      <td>1</td>\n",
       "    </tr>\n",
       "    <tr>\n",
       "      <th>1</th>\n",
       "      <td>38</td>\n",
       "      <td>1.0</td>\n",
       "      <td>3.0</td>\n",
       "      <td>1</td>\n",
       "      <td>0</td>\n",
       "      <td>0</td>\n",
       "    </tr>\n",
       "    <tr>\n",
       "      <th>2</th>\n",
       "      <td>67</td>\n",
       "      <td>1.0</td>\n",
       "      <td>1.0</td>\n",
       "      <td>0</td>\n",
       "      <td>0</td>\n",
       "      <td>1</td>\n",
       "    </tr>\n",
       "    <tr>\n",
       "      <th>3</th>\n",
       "      <td>67</td>\n",
       "      <td>0.0</td>\n",
       "      <td>2.0</td>\n",
       "      <td>0</td>\n",
       "      <td>1</td>\n",
       "      <td>0</td>\n",
       "    </tr>\n",
       "    <tr>\n",
       "      <th>4</th>\n",
       "      <td>40</td>\n",
       "      <td>1.0</td>\n",
       "      <td>6.0</td>\n",
       "      <td>0</td>\n",
       "      <td>1</td>\n",
       "      <td>0</td>\n",
       "    </tr>\n",
       "  </tbody>\n",
       "</table>\n",
       "</div>"
      ],
      "text/plain": [
       "   Age  Work_Experience  Family_Size  Spending_Score_Average  \\\n",
       "0   22              1.0          4.0                       0   \n",
       "1   38              1.0          3.0                       1   \n",
       "2   67              1.0          1.0                       0   \n",
       "3   67              0.0          2.0                       0   \n",
       "4   40              1.0          6.0                       0   \n",
       "\n",
       "   Spending_Score_High  Spending_Score_Low  \n",
       "0                    0                   1  \n",
       "1                    0                   0  \n",
       "2                    0                   1  \n",
       "3                    1                   0  \n",
       "4                    1                   0  "
      ]
     },
     "execution_count": 38,
     "metadata": {},
     "output_type": "execute_result"
    }
   ],
   "source": [
    "# One-hot encoding for 'Spending_Score'\n",
    "# your code here\n",
    "# raise NotImplementedError\n",
    "df_encoded = pd.get_dummies(df_selected, columns=['Spending_Score'])\n",
    "\n",
    "df_encoded.head()"
   ]
  },
  {
   "cell_type": "code",
   "execution_count": 39,
   "id": "330aa6e4",
   "metadata": {
    "deletable": false,
    "editable": false,
    "nbgrader": {
     "cell_type": "code",
     "checksum": "9d02ec239a3624d87eaccf9102e327a5",
     "grade": true,
     "grade_id": "cell-b7652a5b18a81ec7",
     "locked": true,
     "points": 2,
     "schema_version": 3,
     "solution": false,
     "task": false
    }
   },
   "outputs": [],
   "source": [
    "assert df_encoded.shape == (4832, 6), 'Make sure to name encoded dataframe as df_encoded and you have used the correct name for the categorical column to be encoded.'"
   ]
  },
  {
   "cell_type": "markdown",
   "id": "80468259",
   "metadata": {
    "deletable": false,
    "editable": false,
    "nbgrader": {
     "cell_type": "markdown",
     "checksum": "41acf63c5fad43f1cc127b0d9db0e8ba",
     "grade": false,
     "grade_id": "cell-79d442a2026a2aa2",
     "locked": true,
     "schema_version": 3,
     "solution": false,
     "task": false
    }
   },
   "source": [
    "# Scaling"
   ]
  },
  {
   "cell_type": "markdown",
   "id": "65e7d2c1",
   "metadata": {
    "deletable": false,
    "editable": false,
    "nbgrader": {
     "cell_type": "markdown",
     "checksum": "9e1dcee9633ec2d23a7d4704f953f01f",
     "grade": false,
     "grade_id": "cell-7ca3a2f97287e0b8",
     "locked": true,
     "schema_version": 3,
     "solution": false,
     "task": false
    }
   },
   "source": [
    "Finally, use a __standard scaler__ to scale the dataset and name the data frame as <b>data_scaled</b>."
   ]
  },
  {
   "cell_type": "code",
   "execution_count": 40,
   "id": "34421ca1",
   "metadata": {
    "deletable": false,
    "editable": false,
    "nbgrader": {
     "cell_type": "code",
     "checksum": "bd82389be7247ea5f7664bd25d93a15f",
     "grade": false,
     "grade_id": "cell-a615747cd01b8e03",
     "locked": true,
     "schema_version": 3,
     "solution": false,
     "task": false
    }
   },
   "outputs": [],
   "source": [
    "# Import StandardScaler\n",
    "from sklearn.preprocessing import StandardScaler"
   ]
  },
  {
   "cell_type": "code",
   "execution_count": 41,
   "id": "3c4c9843",
   "metadata": {
    "deletable": false,
    "editable": false,
    "nbgrader": {
     "cell_type": "code",
     "checksum": "8f5e89ca2c5359aacf3f17fd87ae0e60",
     "grade": false,
     "grade_id": "cell-90cf0e3845d3a6c7",
     "locked": true,
     "schema_version": 3,
     "solution": false,
     "task": false
    }
   },
   "outputs": [],
   "source": [
    "# Standardize the numerical columns\n",
    "scaler = StandardScaler()\n",
    "data_scaled = scaler.fit_transform(df_encoded)"
   ]
  },
  {
   "cell_type": "code",
   "execution_count": 42,
   "id": "7d5556ae",
   "metadata": {
    "deletable": false,
    "editable": false,
    "nbgrader": {
     "cell_type": "code",
     "checksum": "a5dcfee79fb79938d11955552d5be0c1",
     "grade": false,
     "grade_id": "cell-8158550bd25c406d",
     "locked": true,
     "schema_version": 3,
     "solution": false,
     "task": false
    }
   },
   "outputs": [
    {
     "data": {
      "text/html": [
       "<div>\n",
       "<style scoped>\n",
       "    .dataframe tbody tr th:only-of-type {\n",
       "        vertical-align: middle;\n",
       "    }\n",
       "\n",
       "    .dataframe tbody tr th {\n",
       "        vertical-align: top;\n",
       "    }\n",
       "\n",
       "    .dataframe thead th {\n",
       "        text-align: right;\n",
       "    }\n",
       "</style>\n",
       "<table border=\"1\" class=\"dataframe\">\n",
       "  <thead>\n",
       "    <tr style=\"text-align: right;\">\n",
       "      <th></th>\n",
       "      <th>Age</th>\n",
       "      <th>Work_Experience</th>\n",
       "      <th>Family_Size</th>\n",
       "      <th>Spending_Score_Average</th>\n",
       "      <th>Spending_Score_High</th>\n",
       "      <th>Spending_Score_Low</th>\n",
       "    </tr>\n",
       "  </thead>\n",
       "  <tbody>\n",
       "    <tr>\n",
       "      <th>0</th>\n",
       "      <td>-1.269300</td>\n",
       "      <td>-0.458628</td>\n",
       "      <td>0.771516</td>\n",
       "      <td>-0.566835</td>\n",
       "      <td>-0.416395</td>\n",
       "      <td>0.801163</td>\n",
       "    </tr>\n",
       "    <tr>\n",
       "      <th>1</th>\n",
       "      <td>-0.320137</td>\n",
       "      <td>-0.458628</td>\n",
       "      <td>0.096160</td>\n",
       "      <td>1.764183</td>\n",
       "      <td>-0.416395</td>\n",
       "      <td>-1.248186</td>\n",
       "    </tr>\n",
       "    <tr>\n",
       "      <th>2</th>\n",
       "      <td>1.400223</td>\n",
       "      <td>-0.458628</td>\n",
       "      <td>-1.254552</td>\n",
       "      <td>-0.566835</td>\n",
       "      <td>-0.416395</td>\n",
       "      <td>0.801163</td>\n",
       "    </tr>\n",
       "    <tr>\n",
       "      <th>3</th>\n",
       "      <td>1.400223</td>\n",
       "      <td>-0.762494</td>\n",
       "      <td>-0.579196</td>\n",
       "      <td>-0.566835</td>\n",
       "      <td>2.401563</td>\n",
       "      <td>-1.248186</td>\n",
       "    </tr>\n",
       "    <tr>\n",
       "      <th>4</th>\n",
       "      <td>-0.201491</td>\n",
       "      <td>-0.458628</td>\n",
       "      <td>2.122227</td>\n",
       "      <td>-0.566835</td>\n",
       "      <td>2.401563</td>\n",
       "      <td>-1.248186</td>\n",
       "    </tr>\n",
       "  </tbody>\n",
       "</table>\n",
       "</div>"
      ],
      "text/plain": [
       "        Age  Work_Experience  Family_Size  Spending_Score_Average  \\\n",
       "0 -1.269300        -0.458628     0.771516               -0.566835   \n",
       "1 -0.320137        -0.458628     0.096160                1.764183   \n",
       "2  1.400223        -0.458628    -1.254552               -0.566835   \n",
       "3  1.400223        -0.762494    -0.579196               -0.566835   \n",
       "4 -0.201491        -0.458628     2.122227               -0.566835   \n",
       "\n",
       "   Spending_Score_High  Spending_Score_Low  \n",
       "0            -0.416395            0.801163  \n",
       "1            -0.416395           -1.248186  \n",
       "2            -0.416395            0.801163  \n",
       "3             2.401563           -1.248186  \n",
       "4             2.401563           -1.248186  "
      ]
     },
     "execution_count": 42,
     "metadata": {},
     "output_type": "execute_result"
    }
   ],
   "source": [
    "# Create a DataFrame for the scaled data\n",
    "data_scaled = pd.DataFrame(data_scaled, columns=df_encoded.columns, index = df_encoded.index)\n",
    "\n",
    "# Show the first few rows of the scaled DataFrame\n",
    "data_scaled.head()"
   ]
  },
  {
   "cell_type": "markdown",
   "id": "17d87e88",
   "metadata": {
    "deletable": false,
    "editable": false,
    "nbgrader": {
     "cell_type": "markdown",
     "checksum": "68629811b8186907d2c05338425fe3ad",
     "grade": false,
     "grade_id": "cell-15d4f7d97a86ff00",
     "locked": true,
     "schema_version": 3,
     "solution": false,
     "task": false
    }
   },
   "source": [
    "Take a look at the data now. All the numerical columns are on a similar scale now.\n"
   ]
  },
  {
   "cell_type": "markdown",
   "id": "220e3579",
   "metadata": {
    "deletable": false,
    "editable": false,
    "nbgrader": {
     "cell_type": "markdown",
     "checksum": "74e96055063e83b26c75235780b76c6b",
     "grade": false,
     "grade_id": "cell-7116262093180e69",
     "locked": true,
     "schema_version": 3,
     "solution": false,
     "task": false
    }
   },
   "source": [
    "### Apply Kmeans Clustering "
   ]
  },
  {
   "cell_type": "markdown",
   "id": "e7fb92fe",
   "metadata": {
    "deletable": false,
    "editable": false,
    "nbgrader": {
     "cell_type": "markdown",
     "checksum": "b72c269f0fd4d855bb75d15392e4409b",
     "grade": false,
     "grade_id": "cell-3a85c345bb63bda6",
     "locked": true,
     "schema_version": 3,
     "solution": false,
     "task": false
    }
   },
   "source": [
    "Now let's apply the K-means clustering to the scaled dataframe and after the algorithm creates the model, <b>combine the cluster labels onto a new dataframe data_visual</b> which you will use to plot relevant features."
   ]
  },
  {
   "cell_type": "code",
   "execution_count": 43,
   "id": "eefde46b",
   "metadata": {
    "deletable": false,
    "editable": false,
    "nbgrader": {
     "cell_type": "code",
     "checksum": "7b329d993f07631e3b0730be7720d170",
     "grade": false,
     "grade_id": "cell-95047b0384e3ab55",
     "locked": true,
     "schema_version": 3,
     "solution": false,
     "task": false
    }
   },
   "outputs": [],
   "source": [
    "# Import KMeans\n",
    "from sklearn.cluster import KMeans"
   ]
  },
  {
   "cell_type": "code",
   "execution_count": 44,
   "id": "37e300e7",
   "metadata": {
    "deletable": false,
    "nbgrader": {
     "cell_type": "code",
     "checksum": "69ef181e5540c145d31d53b728d0af6b",
     "grade": false,
     "grade_id": "cell-d509695cfcccf801",
     "locked": false,
     "schema_version": 3,
     "solution": true,
     "task": false
    }
   },
   "outputs": [
    {
     "data": {
      "text/html": [
       "<div>\n",
       "<style scoped>\n",
       "    .dataframe tbody tr th:only-of-type {\n",
       "        vertical-align: middle;\n",
       "    }\n",
       "\n",
       "    .dataframe tbody tr th {\n",
       "        vertical-align: top;\n",
       "    }\n",
       "\n",
       "    .dataframe thead th {\n",
       "        text-align: right;\n",
       "    }\n",
       "</style>\n",
       "<table border=\"1\" class=\"dataframe\">\n",
       "  <thead>\n",
       "    <tr style=\"text-align: right;\">\n",
       "      <th></th>\n",
       "      <th>Age</th>\n",
       "      <th>Work_Experience</th>\n",
       "      <th>Family_Size</th>\n",
       "      <th>Spending_Score_Average</th>\n",
       "      <th>Spending_Score_High</th>\n",
       "      <th>Spending_Score_Low</th>\n",
       "      <th>Cluster_Labels</th>\n",
       "    </tr>\n",
       "  </thead>\n",
       "  <tbody>\n",
       "    <tr>\n",
       "      <th>0</th>\n",
       "      <td>-1.269300</td>\n",
       "      <td>-0.458628</td>\n",
       "      <td>0.771516</td>\n",
       "      <td>-0.566835</td>\n",
       "      <td>-0.416395</td>\n",
       "      <td>0.801163</td>\n",
       "      <td>0</td>\n",
       "    </tr>\n",
       "    <tr>\n",
       "      <th>1</th>\n",
       "      <td>-0.320137</td>\n",
       "      <td>-0.458628</td>\n",
       "      <td>0.096160</td>\n",
       "      <td>1.764183</td>\n",
       "      <td>-0.416395</td>\n",
       "      <td>-1.248186</td>\n",
       "      <td>2</td>\n",
       "    </tr>\n",
       "    <tr>\n",
       "      <th>2</th>\n",
       "      <td>1.400223</td>\n",
       "      <td>-0.458628</td>\n",
       "      <td>-1.254552</td>\n",
       "      <td>-0.566835</td>\n",
       "      <td>-0.416395</td>\n",
       "      <td>0.801163</td>\n",
       "      <td>1</td>\n",
       "    </tr>\n",
       "    <tr>\n",
       "      <th>3</th>\n",
       "      <td>1.400223</td>\n",
       "      <td>-0.762494</td>\n",
       "      <td>-0.579196</td>\n",
       "      <td>-0.566835</td>\n",
       "      <td>2.401563</td>\n",
       "      <td>-1.248186</td>\n",
       "      <td>3</td>\n",
       "    </tr>\n",
       "    <tr>\n",
       "      <th>4</th>\n",
       "      <td>-0.201491</td>\n",
       "      <td>-0.458628</td>\n",
       "      <td>2.122227</td>\n",
       "      <td>-0.566835</td>\n",
       "      <td>2.401563</td>\n",
       "      <td>-1.248186</td>\n",
       "      <td>4</td>\n",
       "    </tr>\n",
       "  </tbody>\n",
       "</table>\n",
       "</div>"
      ],
      "text/plain": [
       "        Age  Work_Experience  Family_Size  Spending_Score_Average  \\\n",
       "0 -1.269300        -0.458628     0.771516               -0.566835   \n",
       "1 -0.320137        -0.458628     0.096160                1.764183   \n",
       "2  1.400223        -0.458628    -1.254552               -0.566835   \n",
       "3  1.400223        -0.762494    -0.579196               -0.566835   \n",
       "4 -0.201491        -0.458628     2.122227               -0.566835   \n",
       "\n",
       "   Spending_Score_High  Spending_Score_Low  Cluster_Labels  \n",
       "0            -0.416395            0.801163               0  \n",
       "1            -0.416395           -1.248186               2  \n",
       "2            -0.416395            0.801163               1  \n",
       "3             2.401563           -1.248186               3  \n",
       "4             2.401563           -1.248186               4  "
      ]
     },
     "execution_count": 44,
     "metadata": {},
     "output_type": "execute_result"
    }
   ],
   "source": [
    "# Fit KMeans with its default number of clusters\n",
    "kmeans = KMeans(random_state=42)\n",
    "\n",
    "# Fit data_scaled to the kmeans model with random_state = 42\n",
    "# your code here\n",
    "# raise NotImplementedError\n",
    "kmeans.fit(data_scaled)\n",
    "\n",
    "#create an instance - 'cluster_lable' and predict on 'data_scaled'\n",
    "# your code here\n",
    "# raise NotImplementedError\n",
    "cluster_labels = kmeans.predict(data_scaled)\n",
    "\n",
    "data_visual = data_scaled.copy()\n",
    "data_visual['Cluster_Labels'] = cluster_labels\n",
    "\n",
    "data_visual.head()"
   ]
  },
  {
   "cell_type": "code",
   "execution_count": 45,
   "id": "c9b969e5",
   "metadata": {
    "deletable": false,
    "editable": false,
    "nbgrader": {
     "cell_type": "code",
     "checksum": "b62a3b480e1044afa671b9ef279ce57b",
     "grade": true,
     "grade_id": "cell-26f8cf64ac2ccfd1",
     "locked": true,
     "points": 2,
     "schema_version": 3,
     "solution": false,
     "task": false
    }
   },
   "outputs": [],
   "source": [
    "assert data_visual.shape == (4832, 7), 'Make sure you have properly followed the instructions while creating the model.'"
   ]
  },
  {
   "cell_type": "markdown",
   "id": "b48806fb",
   "metadata": {
    "deletable": false,
    "editable": false,
    "nbgrader": {
     "cell_type": "markdown",
     "checksum": "dd96cd9482fbba5a860dbf9dcee86f21",
     "grade": false,
     "grade_id": "cell-37951ce1674bc935",
     "locked": true,
     "schema_version": 3,
     "solution": false,
     "task": false
    }
   },
   "source": [
    "# Plot the elbow plot to find optimal K value"
   ]
  },
  {
   "cell_type": "markdown",
   "id": "e8e7335b",
   "metadata": {
    "deletable": false,
    "editable": false,
    "nbgrader": {
     "cell_type": "markdown",
     "checksum": "67aa5d3cdd0a2c0044c092bd983da375",
     "grade": false,
     "grade_id": "cell-e6d8eb8b2e4856a0",
     "locked": true,
     "schema_version": 3,
     "solution": false,
     "task": false
    }
   },
   "source": [
    "Now let us __find the optimal k value for upto k=11__."
   ]
  },
  {
   "cell_type": "markdown",
   "id": "ced92b3a",
   "metadata": {
    "deletable": false,
    "editable": false,
    "nbgrader": {
     "cell_type": "markdown",
     "checksum": "68fddcabce82bdb8f0e8385784a2e241",
     "grade": false,
     "grade_id": "cell-428151b158966a0d",
     "locked": true,
     "schema_version": 3,
     "solution": false,
     "task": false
    }
   },
   "source": [
    "Initialize an empty list called WCSS to store the WCSS values and proceed to calculate the cluster distance for each of the different number of clusters."
   ]
  },
  {
   "cell_type": "code",
   "execution_count": 46,
   "id": "24afdcbe",
   "metadata": {
    "deletable": false,
    "nbgrader": {
     "cell_type": "code",
     "checksum": "9b47b27b33f1997b75e6a834b4a8e72d",
     "grade": false,
     "grade_id": "cell-d3ab05483a596c50",
     "locked": false,
     "schema_version": 3,
     "solution": true,
     "task": false
    }
   },
   "outputs": [],
   "source": [
    "# Define a range of cluster counts to test\n",
    "\n",
    "# Write your code below\n",
    "\n",
    "cluster_range = range(1, 11)  # You can adjust the upper limit as needed\n",
    "\n",
    "# Initialize an empty list to store the WCSS values for different number of clusters. Name the list 'wcss'\n",
    "# your code here\n",
    "# raise NotImplementedError\n",
    "wcss = []\n",
    "\n",
    "# Use a for loop, to fill the KMeans for each cluster count and store WCSS for clusters ranging from 1 to 11. Let the random state be 42 and n_cluster = 1\n",
    "# your code here\n",
    "# raise NotImplementedError\n",
    "for i in cluster_range:\n",
    "    kmeans = KMeans(n_clusters=i, random_state=42)\n",
    "    kmeans.fit(data_scaled)\n",
    "    wcss.append(kmeans.inertia_)"
   ]
  },
  {
   "cell_type": "code",
   "execution_count": 47,
   "id": "802140c7",
   "metadata": {},
   "outputs": [
    {
     "data": {
      "text/plain": [
       "[28991.999999999996,\n",
       " 19698.23074661904,\n",
       " 13558.832915518193,\n",
       " 10638.266563482637,\n",
       " 8278.715781804867,\n",
       " 7398.885404610722,\n",
       " 6546.5666986177575,\n",
       " 5679.39383679989,\n",
       " 5235.371187532079,\n",
       " 4761.097197512515]"
      ]
     },
     "execution_count": 47,
     "metadata": {},
     "output_type": "execute_result"
    }
   ],
   "source": [
    "wcss"
   ]
  },
  {
   "cell_type": "code",
   "execution_count": 48,
   "id": "04915fed",
   "metadata": {
    "deletable": false,
    "editable": false,
    "nbgrader": {
     "cell_type": "code",
     "checksum": "b7bdda3a5b3a480303be701271c385b4",
     "grade": true,
     "grade_id": "cell-bba115da65423724",
     "locked": true,
     "points": 5,
     "schema_version": 3,
     "solution": false,
     "task": false
    }
   },
   "outputs": [],
   "source": [
    "assert wcss[0] >= 28990.0, \"The values calculated in wcc is not correct. Please check and calculate again.\""
   ]
  },
  {
   "cell_type": "markdown",
   "id": "bab42cb3",
   "metadata": {
    "deletable": false,
    "editable": false,
    "nbgrader": {
     "cell_type": "markdown",
     "checksum": "bfd03a857743767023272755986d1042",
     "grade": false,
     "grade_id": "cell-f2b40d2bf2095520",
     "locked": true,
     "schema_version": 3,
     "solution": false,
     "task": false
    }
   },
   "source": [
    "Use matplotlib to plot an __Elbow method for optimal number of clusters__ for \"WCSS v/s Number of clusters\" plot."
   ]
  },
  {
   "cell_type": "code",
   "execution_count": 49,
   "id": "0e64bf76",
   "metadata": {
    "deletable": false,
    "editable": false,
    "nbgrader": {
     "cell_type": "code",
     "checksum": "42a53040bf9c67393e762a40e9e4d2dd",
     "grade": false,
     "grade_id": "cell-a6e7cae5acc285d9",
     "locked": true,
     "schema_version": 3,
     "solution": false,
     "task": false
    }
   },
   "outputs": [
    {
     "data": {
      "image/png": "[encoded data removed]",
      "text/plain": [
       "<Figure size 1000x600 with 1 Axes>"
      ]
     },
     "metadata": {},
     "output_type": "display_data"
    }
   ],
   "source": [
    "# Plot the Elbow method\n",
    "plt.figure(figsize=(10, 6))\n",
    "plt.plot(cluster_range, wcss, marker='o')\n",
    "plt.title('Elbow Method For Optimal Number of Clusters')\n",
    "plt.xlabel('Number of Clusters')\n",
    "plt.ylabel('WCSS')\n",
    "plt.grid(True)\n",
    "plt.show()"
   ]
  },
  {
   "cell_type": "markdown",
   "id": "32c33ed2",
   "metadata": {
    "deletable": false,
    "editable": false,
    "nbgrader": {
     "cell_type": "markdown",
     "checksum": "aeefdc0187ae8fbaead5e42b60980608",
     "grade": false,
     "grade_id": "cell-660a6aff00042b77",
     "locked": true,
     "schema_version": 3,
     "solution": false,
     "task": false
    }
   },
   "source": [
    "Based on the plot we’ve obtained, our elbow isn’t very clear. It looks like it could be at 4, 5 or 6 and is open to human interpretation\n",
    "\n",
    "__Apply the silhouette scores method on the dataset upto 9 (include the silhouette score for 9 also) clusters in this step__ and ensure these values are stored in the  list ___silhouette scores___"
   ]
  },
  {
   "cell_type": "code",
   "execution_count": 50,
   "id": "24d3fedd",
   "metadata": {
    "deletable": false,
    "nbgrader": {
     "cell_type": "code",
     "checksum": "744841969af65b23c184aa02b5a45a58",
     "grade": false,
     "grade_id": "cell-32f7068bf2ebd294",
     "locked": false,
     "schema_version": 3,
     "solution": true,
     "task": false
    }
   },
   "outputs": [
    {
     "name": "stdout",
     "output_type": "stream",
     "text": [
      "Number of Clusters: 2, Silhouette Score: 0.37518727237299365\n",
      "Number of Clusters: 3, Silhouette Score: 0.46436806800865066\n",
      "Number of Clusters: 4, Silhouette Score: 0.390426254035303\n",
      "Number of Clusters: 5, Silhouette Score: 0.432541175464194\n",
      "Number of Clusters: 6, Silhouette Score: 0.42250293555263413\n",
      "Number of Clusters: 7, Silhouette Score: 0.4016437770827833\n",
      "Number of Clusters: 8, Silhouette Score: 0.38935550221624926\n",
      "Number of Clusters: 9, Silhouette Score: 0.39076599369764753\n"
     ]
    }
   ],
   "source": [
    "from sklearn.metrics import silhouette_score\n",
    "\n",
    "# Define a range of cluster counts to test\n",
    "\n",
    "cluster_range = range(2, 10)  # Start from 2 clusters\n",
    "\n",
    "# Initialize variables for silhouette scores\n",
    "\n",
    "# your code here\n",
    "# raise NotImplementedError\n",
    "silhouette_scores = []\n",
    "\n",
    "\n",
    "# Calculate the silhouette scores for each cluster count using a for loop. Let, n_clusters=i, n_init=10, random_state=42\n",
    "\n",
    "# your code here\n",
    "# raise NotImplementedError\n",
    "for i in cluster_range:\n",
    "    kmeans = KMeans(n_clusters=i,n_init=10,random_state=42)\n",
    "    kmeans.fit(data_scaled)\n",
    "    labels = kmeans.labels_\n",
    "    silhouette_avg = silhouette_score(data_scaled,labels)\n",
    "    silhouette_scores.append(silhouette_avg)\n",
    "    \n",
    "# Print Silhouette scores\n",
    "for i, score in zip(cluster_range, silhouette_scores):\n",
    "    print(f'Number of Clusters: {i}, Silhouette Score: {score}')"
   ]
  },
  {
   "cell_type": "code",
   "execution_count": 51,
   "id": "d09ac43b",
   "metadata": {},
   "outputs": [
    {
     "data": {
      "text/plain": [
       "[0.37518727237299365,\n",
       " 0.46436806800865066,\n",
       " 0.390426254035303,\n",
       " 0.432541175464194,\n",
       " 0.42250293555263413,\n",
       " 0.4016437770827833,\n",
       " 0.38935550221624926,\n",
       " 0.39076599369764753]"
      ]
     },
     "execution_count": 51,
     "metadata": {},
     "output_type": "execute_result"
    }
   ],
   "source": [
    "silhouette_scores"
   ]
  },
  {
   "cell_type": "code",
   "execution_count": 52,
   "id": "1256b268",
   "metadata": {
    "deletable": false,
    "editable": false,
    "nbgrader": {
     "cell_type": "code",
     "checksum": "56e3471ed8ea881237e60b31168f62b6",
     "grade": true,
     "grade_id": "cell-48a67af255c96bd9",
     "locked": true,
     "points": 5,
     "schema_version": 3,
     "solution": false,
     "task": false
    }
   },
   "outputs": [],
   "source": [
    "assert silhouette_scores[1] > 0.4, \"The values calculated in silhouette_scores list is not correct. Please check and calculate again.\""
   ]
  },
  {
   "cell_type": "markdown",
   "id": "60709889",
   "metadata": {
    "deletable": false,
    "editable": false,
    "nbgrader": {
     "cell_type": "markdown",
     "checksum": "829e15bfbe30f4e3850ea9f252c53b53",
     "grade": false,
     "grade_id": "cell-14d728ad3685a30b",
     "locked": true,
     "schema_version": 3,
     "solution": false,
     "task": false
    }
   },
   "source": [
    "### Cluster the data using K-means algorithm"
   ]
  },
  {
   "cell_type": "markdown",
   "id": "ca4ed9d0",
   "metadata": {
    "deletable": false,
    "editable": false,
    "nbgrader": {
     "cell_type": "markdown",
     "checksum": "31400abe55542391b04a010209fe6ed7",
     "grade": false,
     "grade_id": "cell-94d36f83edfc83d9",
     "locked": true,
     "schema_version": 3,
     "solution": false,
     "task": false
    }
   },
   "source": [
    "Once again run the k-means algorithm with the cluster that had the highest silhouette score and combine these cluster labels with the <b>data_visual</b> dataframe."
   ]
  },
  {
   "cell_type": "code",
   "execution_count": 53,
   "id": "e3504e0b",
   "metadata": {
    "deletable": false,
    "editable": false,
    "nbgrader": {
     "cell_type": "code",
     "checksum": "5a1986656824459a90d84a6388ce686d",
     "grade": false,
     "grade_id": "cell-3e136a63d24646e3",
     "locked": true,
     "schema_version": 3,
     "solution": false,
     "task": false
    }
   },
   "outputs": [],
   "source": [
    "# Fit KMeans with _ clusters\n",
    "\n",
    "kmeans = KMeans(n_clusters=3, random_state=42)  \n",
    "kmeans.fit(data_scaled)\n",
    "cluster_labels = kmeans.predict(data_scaled)\n",
    "\n",
    "data_visual['Cluster_Labels'] = cluster_labels\n"
   ]
  },
  {
   "cell_type": "code",
   "execution_count": 54,
   "id": "2d22bf36",
   "metadata": {
    "deletable": false,
    "editable": false,
    "nbgrader": {
     "cell_type": "code",
     "checksum": "a4c5bebb6ff57e2f963927724065e735",
     "grade": false,
     "grade_id": "cell-a7b6515c1f13b434",
     "locked": true,
     "schema_version": 3,
     "solution": false,
     "task": false
    }
   },
   "outputs": [
    {
     "data": {
      "text/html": [
       "<div>\n",
       "<style scoped>\n",
       "    .dataframe tbody tr th:only-of-type {\n",
       "        vertical-align: middle;\n",
       "    }\n",
       "\n",
       "    .dataframe tbody tr th {\n",
       "        vertical-align: top;\n",
       "    }\n",
       "\n",
       "    .dataframe thead th {\n",
       "        text-align: right;\n",
       "    }\n",
       "</style>\n",
       "<table border=\"1\" class=\"dataframe\">\n",
       "  <thead>\n",
       "    <tr style=\"text-align: right;\">\n",
       "      <th></th>\n",
       "      <th>Age</th>\n",
       "      <th>Work_Experience</th>\n",
       "      <th>Family_Size</th>\n",
       "      <th>Spending_Score_Average</th>\n",
       "      <th>Spending_Score_High</th>\n",
       "      <th>Spending_Score_Low</th>\n",
       "      <th>Cluster_Labels</th>\n",
       "    </tr>\n",
       "  </thead>\n",
       "  <tbody>\n",
       "    <tr>\n",
       "      <th>0</th>\n",
       "      <td>-1.269300</td>\n",
       "      <td>-0.458628</td>\n",
       "      <td>0.771516</td>\n",
       "      <td>-0.566835</td>\n",
       "      <td>-0.416395</td>\n",
       "      <td>0.801163</td>\n",
       "      <td>0</td>\n",
       "    </tr>\n",
       "    <tr>\n",
       "      <th>1</th>\n",
       "      <td>-0.320137</td>\n",
       "      <td>-0.458628</td>\n",
       "      <td>0.096160</td>\n",
       "      <td>1.764183</td>\n",
       "      <td>-0.416395</td>\n",
       "      <td>-1.248186</td>\n",
       "      <td>2</td>\n",
       "    </tr>\n",
       "    <tr>\n",
       "      <th>2</th>\n",
       "      <td>1.400223</td>\n",
       "      <td>-0.458628</td>\n",
       "      <td>-1.254552</td>\n",
       "      <td>-0.566835</td>\n",
       "      <td>-0.416395</td>\n",
       "      <td>0.801163</td>\n",
       "      <td>0</td>\n",
       "    </tr>\n",
       "    <tr>\n",
       "      <th>3</th>\n",
       "      <td>1.400223</td>\n",
       "      <td>-0.762494</td>\n",
       "      <td>-0.579196</td>\n",
       "      <td>-0.566835</td>\n",
       "      <td>2.401563</td>\n",
       "      <td>-1.248186</td>\n",
       "      <td>1</td>\n",
       "    </tr>\n",
       "    <tr>\n",
       "      <th>4</th>\n",
       "      <td>-0.201491</td>\n",
       "      <td>-0.458628</td>\n",
       "      <td>2.122227</td>\n",
       "      <td>-0.566835</td>\n",
       "      <td>2.401563</td>\n",
       "      <td>-1.248186</td>\n",
       "      <td>1</td>\n",
       "    </tr>\n",
       "    <tr>\n",
       "      <th>...</th>\n",
       "      <td>...</td>\n",
       "      <td>...</td>\n",
       "      <td>...</td>\n",
       "      <td>...</td>\n",
       "      <td>...</td>\n",
       "      <td>...</td>\n",
       "      <td>...</td>\n",
       "    </tr>\n",
       "    <tr>\n",
       "      <th>4827</th>\n",
       "      <td>-1.269300</td>\n",
       "      <td>-0.762494</td>\n",
       "      <td>-0.579196</td>\n",
       "      <td>-0.566835</td>\n",
       "      <td>-0.416395</td>\n",
       "      <td>0.801163</td>\n",
       "      <td>0</td>\n",
       "    </tr>\n",
       "    <tr>\n",
       "      <th>4828</th>\n",
       "      <td>-0.498105</td>\n",
       "      <td>1.972297</td>\n",
       "      <td>-1.254552</td>\n",
       "      <td>-0.566835</td>\n",
       "      <td>-0.416395</td>\n",
       "      <td>0.801163</td>\n",
       "      <td>0</td>\n",
       "    </tr>\n",
       "    <tr>\n",
       "      <th>4829</th>\n",
       "      <td>0.213768</td>\n",
       "      <td>-0.762494</td>\n",
       "      <td>0.771516</td>\n",
       "      <td>-0.566835</td>\n",
       "      <td>-0.416395</td>\n",
       "      <td>0.801163</td>\n",
       "      <td>0</td>\n",
       "    </tr>\n",
       "    <tr>\n",
       "      <th>4830</th>\n",
       "      <td>-0.676073</td>\n",
       "      <td>2.883893</td>\n",
       "      <td>0.771516</td>\n",
       "      <td>-0.566835</td>\n",
       "      <td>-0.416395</td>\n",
       "      <td>0.801163</td>\n",
       "      <td>0</td>\n",
       "    </tr>\n",
       "    <tr>\n",
       "      <th>4831</th>\n",
       "      <td>-0.616750</td>\n",
       "      <td>2.580028</td>\n",
       "      <td>-0.579196</td>\n",
       "      <td>-0.566835</td>\n",
       "      <td>2.401563</td>\n",
       "      <td>-1.248186</td>\n",
       "      <td>1</td>\n",
       "    </tr>\n",
       "  </tbody>\n",
       "</table>\n",
       "<p>4832 rows × 7 columns</p>\n",
       "</div>"
      ],
      "text/plain": [
       "           Age  Work_Experience  Family_Size  Spending_Score_Average  \\\n",
       "0    -1.269300        -0.458628     0.771516               -0.566835   \n",
       "1    -0.320137        -0.458628     0.096160                1.764183   \n",
       "2     1.400223        -0.458628    -1.254552               -0.566835   \n",
       "3     1.400223        -0.762494    -0.579196               -0.566835   \n",
       "4    -0.201491        -0.458628     2.122227               -0.566835   \n",
       "...        ...              ...          ...                     ...   \n",
       "4827 -1.269300        -0.762494    -0.579196               -0.566835   \n",
       "4828 -0.498105         1.972297    -1.254552               -0.566835   \n",
       "4829  0.213768        -0.762494     0.771516               -0.566835   \n",
       "4830 -0.676073         2.883893     0.771516               -0.566835   \n",
       "4831 -0.616750         2.580028    -0.579196               -0.566835   \n",
       "\n",
       "      Spending_Score_High  Spending_Score_Low  Cluster_Labels  \n",
       "0               -0.416395            0.801163               0  \n",
       "1               -0.416395           -1.248186               2  \n",
       "2               -0.416395            0.801163               0  \n",
       "3                2.401563           -1.248186               1  \n",
       "4                2.401563           -1.248186               1  \n",
       "...                   ...                 ...             ...  \n",
       "4827            -0.416395            0.801163               0  \n",
       "4828            -0.416395            0.801163               0  \n",
       "4829            -0.416395            0.801163               0  \n",
       "4830            -0.416395            0.801163               0  \n",
       "4831             2.401563           -1.248186               1  \n",
       "\n",
       "[4832 rows x 7 columns]"
      ]
     },
     "execution_count": 54,
     "metadata": {},
     "output_type": "execute_result"
    }
   ],
   "source": [
    "data_visual"
   ]
  },
  {
   "cell_type": "markdown",
   "id": "1f1c73a6",
   "metadata": {
    "deletable": false,
    "editable": false,
    "nbgrader": {
     "cell_type": "markdown",
     "checksum": "b3031016cc63f8ac8dfee66c2fe1c8c1",
     "grade": false,
     "grade_id": "cell-1353ab17216e2054",
     "locked": true,
     "schema_version": 3,
     "solution": false,
     "task": false
    }
   },
   "source": [
    "The successful application of K-Means has thus enabled TapToBuy to segment its customer base into 3 distinct clusters, a critical step in enhancing its marketing strategies. \n",
    "\n",
    "This segmentation not only allows for more personalized and effective marketing campaigns, but also directly addresses the needs and preferences of each customer group. The insights gained provide a foundation for TapToBuy to refine customer engagement and product recommendations. This strategic move positions TapToBuy to better compete in the dynamic online grocery market."
   ]
  }
 ],
 "metadata": {
  "kernelspec": {
   "display_name": "Python 3 (ipykernel)",
   "language": "python",
   "name": "python3"
  },
  "language_info": {
   "codemirror_mode": {
    "name": "ipython",
    "version": 3
   },
   "file_extension": ".py",
   "mimetype": "text/x-python",
   "name": "python",
   "nbconvert_exporter": "python",
   "pygments_lexer": "ipython3",
   "version": "3.10.6"
  }
 },
 "nbformat": 4,
 "nbformat_minor": 5
}
