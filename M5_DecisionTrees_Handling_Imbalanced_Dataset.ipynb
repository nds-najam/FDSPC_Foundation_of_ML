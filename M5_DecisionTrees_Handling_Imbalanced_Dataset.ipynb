{
 "cells": [
  {
   "cell_type": "markdown",
   "id": "4aa924ab",
   "metadata": {
    "id": "4aa924ab"
   },
   "source": [
    "### VIDEO 9: HANDLING IMBALANCED DATASET"
   ]
  },
  {
   "cell_type": "markdown",
   "id": "6425bc34",
   "metadata": {
    "id": "6425bc34"
   },
   "source": [
    "Hello learners!\n",
    "\n",
    "In this video, let's use the techniques that we have learnt in the last video to handle class imbalance. Apart from that, we will also be using oversampling and undersampling techniques to balance the dataset. So, let's get started!\n",
    "\n",
    "First let's do preprocessing in the data just like we are doing while building the classification and regression model."
   ]
  },
  {
   "cell_type": "code",
   "execution_count": 1,
   "id": "4db7bcba",
   "metadata": {
    "id": "4db7bcba"
   },
   "outputs": [],
   "source": [
    "#Importing libraries\n",
    "import pandas as pd\n",
    "import numpy as np\n",
    "\n",
    "#Loading the data\n",
    "data = pd.read_csv(\"Synergix_data_preprocessed_new.csv\")\n",
    "\n",
    "#Storing the ratio in a list named Rating_ratio\n",
    "Rating_ratio = []\n",
    "for row in data.values:\n",
    "    if(row[4]+row[5] == 0):\n",
    "        if(row[7]+row[8] == 0):\n",
    "            #If all the ratings are zero then overall rating ratio will also be zero\n",
    "            Rating_ratio.append(0.0)\n",
    "        else:\n",
    "            #If only the numerator(1 and 2 star) ratings are zero then adding -99999 to the list temporarily which\n",
    "            #will be taken care of in the next cell.\n",
    "            Rating_ratio.append(-99999)\n",
    "    else:\n",
    "        Rating_ratio.append((int(row[7])+(row[8]))/(int(row[4])+int(row[5])))\n",
    "\n",
    "#replacing -99999 with the maximum ratio in the list\n",
    "max_rating = max(Rating_ratio)\n",
    "for x in range(len(Rating_ratio)):\n",
    "    if(Rating_ratio[x] == -99999):\n",
    "        Rating_ratio[x] = max_rating\n",
    "\n",
    "#adding the column 'Good_By_Bad_Rating' to the dataframe\n",
    "data['Good_By_Bad_Rating'] = Rating_ratio\n",
    "\n",
    "data = data.drop(columns = ['1_Star_Rating', '2_Star_Rating', '3_Star_Rating', '4_Star_Rating', '5_Star_Rating'])"
   ]
  },
  {
   "cell_type": "code",
   "execution_count": 2,
   "id": "fe4071f6",
   "metadata": {
    "id": "fe4071f6"
   },
   "outputs": [],
   "source": [
    "from sklearn.preprocessing import LabelEncoder\n",
    "data [['Segment']]= data [['Segment']].apply(LabelEncoder().fit_transform)"
   ]
  },
  {
   "cell_type": "code",
   "execution_count": 3,
   "id": "25c7552b",
   "metadata": {
    "id": "25c7552b"
   },
   "outputs": [],
   "source": [
    "data = data.drop(columns = 'Units_sold',axis=1)\n",
    "\n",
    "X = data.drop(columns = 'Units_sold>1000')\n",
    "y = data['Units_sold>1000']"
   ]
  },
  {
   "cell_type": "code",
   "execution_count": 4,
   "id": "a265f0bf",
   "metadata": {
    "id": "a265f0bf"
   },
   "outputs": [],
   "source": [
    "# Importing the train-test split from scikit-learn\n",
    "from sklearn.model_selection import train_test_split\n",
    "\n",
    "# Performing train and test split\n",
    "X_train, X_test, y_train, y_test = train_test_split(X, y, test_size = 0.30, random_state = 6)"
   ]
  },
  {
   "cell_type": "markdown",
   "id": "2d4dc747",
   "metadata": {
    "id": "2d4dc747"
   },
   "source": [
    "Before we start the stratified split, let's check the ratio of both the classes in the y_train and y_test splits."
   ]
  },
  {
   "cell_type": "code",
   "execution_count": 5,
   "id": "e762bf7a",
   "metadata": {
    "id": "e762bf7a",
    "outputId": "5642d6ff-937c-47a6-d6f2-220f8ac382bb"
   },
   "outputs": [
    {
     "data": {
      "text/plain": [
       "1    0.598137\n",
       "0    0.401863\n",
       "Name: Units_sold>1000, dtype: float64"
      ]
     },
     "execution_count": 5,
     "metadata": {},
     "output_type": "execute_result"
    }
   ],
   "source": [
    "y_train.value_counts(normalize=True)"
   ]
  },
  {
   "cell_type": "code",
   "execution_count": 6,
   "id": "60650a6a",
   "metadata": {
    "id": "60650a6a",
    "outputId": "9cf6f734-8b21-431c-d224-9904b56ee1a5"
   },
   "outputs": [
    {
     "data": {
      "text/plain": [
       "1    0.614261\n",
       "0    0.385739\n",
       "Name: Units_sold>1000, dtype: float64"
      ]
     },
     "execution_count": 6,
     "metadata": {},
     "output_type": "execute_result"
    }
   ],
   "source": [
    "y_test.value_counts(normalize=True)"
   ]
  },
  {
   "cell_type": "markdown",
   "id": "b9d6e1b4",
   "metadata": {
    "id": "b9d6e1b4"
   },
   "source": [
    "To incorporate startify split in out model, we can use train_test_split with the stratify parameter set to ‘y’ to ensure that the split is stratified based on the target variable y."
   ]
  },
  {
   "cell_type": "markdown",
   "id": "d191f80a",
   "metadata": {
    "id": "d191f80a"
   },
   "source": [
    "Now, let's perform the stratified split and see if this ratio changes."
   ]
  },
  {
   "cell_type": "code",
   "execution_count": 7,
   "id": "b337fb0f",
   "metadata": {
    "id": "b337fb0f"
   },
   "outputs": [],
   "source": [
    "# Performing train test split with stratification\n",
    "X_train_st, X_test_st, y_train_st, y_test_st = train_test_split(X, y, test_size = 0.3, stratify = y, random_state = 6)"
   ]
  },
  {
   "cell_type": "code",
   "execution_count": 8,
   "id": "f552e8a8",
   "metadata": {
    "id": "f552e8a8",
    "outputId": "69739b1a-78a0-4efe-f467-94a98f0435a1"
   },
   "outputs": [
    {
     "data": {
      "text/plain": [
       "1    0.60294\n",
       "0    0.39706\n",
       "Name: Units_sold>1000, dtype: float64"
      ]
     },
     "execution_count": 8,
     "metadata": {},
     "output_type": "execute_result"
    }
   ],
   "source": [
    "y_train_st.value_counts(normalize=True)"
   ]
  },
  {
   "cell_type": "code",
   "execution_count": 9,
   "id": "ef4f6791",
   "metadata": {
    "id": "ef4f6791",
    "outputId": "bcf9c6f2-535f-4aef-f3c7-eeeec1d55374"
   },
   "outputs": [
    {
     "data": {
      "text/plain": [
       "1    0.603056\n",
       "0    0.396944\n",
       "Name: Units_sold>1000, dtype: float64"
      ]
     },
     "execution_count": 9,
     "metadata": {},
     "output_type": "execute_result"
    }
   ],
   "source": [
    "y_test_st.value_counts(normalize=True)"
   ]
  },
  {
   "cell_type": "markdown",
   "id": "7517bc58",
   "metadata": {
    "id": "7517bc58"
   },
   "source": [
    "As you can see, the ratio does not change much, this is because, the dataset that we have is large, therefore the chances of sample bias are small.  But as a good practice, for classification problems with imbalanced dataset, we should always do stratified split."
   ]
  },
  {
   "cell_type": "markdown",
   "id": "1f886586",
   "metadata": {
    "id": "1f886586"
   },
   "source": [
    "Now let's try the other technique which is using the hyperparameter: class weight.\n",
    "As discussed earlier specific machine learning algorithms like Decision Tree, Logistic Regression etc allows us to set the class weight hyperparameter. Let's set it to ‘balanced’ and use the stratified splits we have obtained earlier to build the model."
   ]
  },
  {
   "cell_type": "code",
   "execution_count": 10,
   "id": "2a036a51",
   "metadata": {
    "id": "2a036a51"
   },
   "outputs": [],
   "source": [
    "from sklearn.tree import DecisionTreeClassifier\n",
    "DT_model = DecisionTreeClassifier(max_depth = 11, min_samples_leaf= 6, random_state=42, class_weight = 'balanced')"
   ]
  },
  {
   "cell_type": "markdown",
   "id": "27ee96f2",
   "metadata": {
    "id": "27ee96f2"
   },
   "source": [
    "However, we can also assign customised class weights by defining a dictionary where the keys represent the class labels, and #the values represent the weights we want to assign to each class."
   ]
  },
  {
   "cell_type": "markdown",
   "id": "bc3dfbb5",
   "metadata": {
    "id": "bc3dfbb5"
   },
   "source": [
    "DT_model = DecisionTreeClassifier(max_depth = 11, min_samples_leaf= 6, random_state=42, class_weight = {0:0.8, 1:0.2})"
   ]
  },
  {
   "cell_type": "code",
   "execution_count": 11,
   "id": "d704f459",
   "metadata": {
    "id": "d704f459",
    "outputId": "e97f0b8d-2159-470f-d170-596bbba2a94a",
    "scrolled": true
   },
   "outputs": [
    {
     "data": {
      "text/html": [
       "<style>#sk-container-id-1 {\n",
       "  /* Definition of color scheme common for light and dark mode */\n",
       "  --sklearn-color-text: black;\n",
       "  --sklearn-color-line: gray;\n",
       "  /* Definition of color scheme for unfitted estimators */\n",
       "  --sklearn-color-unfitted-level-0: #fff5e6;\n",
       "  --sklearn-color-unfitted-level-1: #f6e4d2;\n",
       "  --sklearn-color-unfitted-level-2: #ffe0b3;\n",
       "  --sklearn-color-unfitted-level-3: chocolate;\n",
       "  /* Definition of color scheme for fitted estimators */\n",
       "  --sklearn-color-fitted-level-0: #f0f8ff;\n",
       "  --sklearn-color-fitted-level-1: #d4ebff;\n",
       "  --sklearn-color-fitted-level-2: #b3dbfd;\n",
       "  --sklearn-color-fitted-level-3: cornflowerblue;\n",
       "\n",
       "  /* Specific color for light theme */\n",
       "  --sklearn-color-text-on-default-background: var(--sg-text-color, var(--theme-code-foreground, var(--jp-content-font-color1, black)));\n",
       "  --sklearn-color-background: var(--sg-background-color, var(--theme-background, var(--jp-layout-color0, white)));\n",
       "  --sklearn-color-border-box: var(--sg-text-color, var(--theme-code-foreground, var(--jp-content-font-color1, black)));\n",
       "  --sklearn-color-icon: #696969;\n",
       "\n",
       "  @media (prefers-color-scheme: dark) {\n",
       "    /* Redefinition of color scheme for dark theme */\n",
       "    --sklearn-color-text-on-default-background: var(--sg-text-color, var(--theme-code-foreground, var(--jp-content-font-color1, white)));\n",
       "    --sklearn-color-background: var(--sg-background-color, var(--theme-background, var(--jp-layout-color0, #111)));\n",
       "    --sklearn-color-border-box: var(--sg-text-color, var(--theme-code-foreground, var(--jp-content-font-color1, white)));\n",
       "    --sklearn-color-icon: #878787;\n",
       "  }\n",
       "}\n",
       "\n",
       "#sk-container-id-1 {\n",
       "  color: var(--sklearn-color-text);\n",
       "}\n",
       "\n",
       "#sk-container-id-1 pre {\n",
       "  padding: 0;\n",
       "}\n",
       "\n",
       "#sk-container-id-1 input.sk-hidden--visually {\n",
       "  border: 0;\n",
       "  clip: rect(1px 1px 1px 1px);\n",
       "  clip: rect(1px, 1px, 1px, 1px);\n",
       "  height: 1px;\n",
       "  margin: -1px;\n",
       "  overflow: hidden;\n",
       "  padding: 0;\n",
       "  position: absolute;\n",
       "  width: 1px;\n",
       "}\n",
       "\n",
       "#sk-container-id-1 div.sk-dashed-wrapped {\n",
       "  border: 1px dashed var(--sklearn-color-line);\n",
       "  margin: 0 0.4em 0.5em 0.4em;\n",
       "  box-sizing: border-box;\n",
       "  padding-bottom: 0.4em;\n",
       "  background-color: var(--sklearn-color-background);\n",
       "}\n",
       "\n",
       "#sk-container-id-1 div.sk-container {\n",
       "  /* jupyter's `normalize.less` sets `[hidden] { display: none; }`\n",
       "     but bootstrap.min.css set `[hidden] { display: none !important; }`\n",
       "     so we also need the `!important` here to be able to override the\n",
       "     default hidden behavior on the sphinx rendered scikit-learn.org.\n",
       "     See: https://github.com/scikit-learn/scikit-learn/issues/21755 */\n",
       "  display: inline-block !important;\n",
       "  position: relative;\n",
       "}\n",
       "\n",
       "#sk-container-id-1 div.sk-text-repr-fallback {\n",
       "  display: none;\n",
       "}\n",
       "\n",
       "div.sk-parallel-item,\n",
       "div.sk-serial,\n",
       "div.sk-item {\n",
       "  /* draw centered vertical line to link estimators */\n",
       "  background-image: linear-gradient(var(--sklearn-color-text-on-default-background), var(--sklearn-color-text-on-default-background));\n",
       "  background-size: 2px 100%;\n",
       "  background-repeat: no-repeat;\n",
       "  background-position: center center;\n",
       "}\n",
       "\n",
       "/* Parallel-specific style estimator block */\n",
       "\n",
       "#sk-container-id-1 div.sk-parallel-item::after {\n",
       "  content: \"\";\n",
       "  width: 100%;\n",
       "  border-bottom: 2px solid var(--sklearn-color-text-on-default-background);\n",
       "  flex-grow: 1;\n",
       "}\n",
       "\n",
       "#sk-container-id-1 div.sk-parallel {\n",
       "  display: flex;\n",
       "  align-items: stretch;\n",
       "  justify-content: center;\n",
       "  background-color: var(--sklearn-color-background);\n",
       "  position: relative;\n",
       "}\n",
       "\n",
       "#sk-container-id-1 div.sk-parallel-item {\n",
       "  display: flex;\n",
       "  flex-direction: column;\n",
       "}\n",
       "\n",
       "#sk-container-id-1 div.sk-parallel-item:first-child::after {\n",
       "  align-self: flex-end;\n",
       "  width: 50%;\n",
       "}\n",
       "\n",
       "#sk-container-id-1 div.sk-parallel-item:last-child::after {\n",
       "  align-self: flex-start;\n",
       "  width: 50%;\n",
       "}\n",
       "\n",
       "#sk-container-id-1 div.sk-parallel-item:only-child::after {\n",
       "  width: 0;\n",
       "}\n",
       "\n",
       "/* Serial-specific style estimator block */\n",
       "\n",
       "#sk-container-id-1 div.sk-serial {\n",
       "  display: flex;\n",
       "  flex-direction: column;\n",
       "  align-items: center;\n",
       "  background-color: var(--sklearn-color-background);\n",
       "  padding-right: 1em;\n",
       "  padding-left: 1em;\n",
       "}\n",
       "\n",
       "\n",
       "/* Toggleable style: style used for estimator/Pipeline/ColumnTransformer box that is\n",
       "clickable and can be expanded/collapsed.\n",
       "- Pipeline and ColumnTransformer use this feature and define the default style\n",
       "- Estimators will overwrite some part of the style using the `sk-estimator` class\n",
       "*/\n",
       "\n",
       "/* Pipeline and ColumnTransformer style (default) */\n",
       "\n",
       "#sk-container-id-1 div.sk-toggleable {\n",
       "  /* Default theme specific background. It is overwritten whether we have a\n",
       "  specific estimator or a Pipeline/ColumnTransformer */\n",
       "  background-color: var(--sklearn-color-background);\n",
       "}\n",
       "\n",
       "/* Toggleable label */\n",
       "#sk-container-id-1 label.sk-toggleable__label {\n",
       "  cursor: pointer;\n",
       "  display: block;\n",
       "  width: 100%;\n",
       "  margin-bottom: 0;\n",
       "  padding: 0.5em;\n",
       "  box-sizing: border-box;\n",
       "  text-align: center;\n",
       "}\n",
       "\n",
       "#sk-container-id-1 label.sk-toggleable__label-arrow:before {\n",
       "  /* Arrow on the left of the label */\n",
       "  content: \"▸\";\n",
       "  float: left;\n",
       "  margin-right: 0.25em;\n",
       "  color: var(--sklearn-color-icon);\n",
       "}\n",
       "\n",
       "#sk-container-id-1 label.sk-toggleable__label-arrow:hover:before {\n",
       "  color: var(--sklearn-color-text);\n",
       "}\n",
       "\n",
       "/* Toggleable content - dropdown */\n",
       "\n",
       "#sk-container-id-1 div.sk-toggleable__content {\n",
       "  max-height: 0;\n",
       "  max-width: 0;\n",
       "  overflow: hidden;\n",
       "  text-align: left;\n",
       "  /* unfitted */\n",
       "  background-color: var(--sklearn-color-unfitted-level-0);\n",
       "}\n",
       "\n",
       "#sk-container-id-1 div.sk-toggleable__content.fitted {\n",
       "  /* fitted */\n",
       "  background-color: var(--sklearn-color-fitted-level-0);\n",
       "}\n",
       "\n",
       "#sk-container-id-1 div.sk-toggleable__content pre {\n",
       "  margin: 0.2em;\n",
       "  border-radius: 0.25em;\n",
       "  color: var(--sklearn-color-text);\n",
       "  /* unfitted */\n",
       "  background-color: var(--sklearn-color-unfitted-level-0);\n",
       "}\n",
       "\n",
       "#sk-container-id-1 div.sk-toggleable__content.fitted pre {\n",
       "  /* unfitted */\n",
       "  background-color: var(--sklearn-color-fitted-level-0);\n",
       "}\n",
       "\n",
       "#sk-container-id-1 input.sk-toggleable__control:checked~div.sk-toggleable__content {\n",
       "  /* Expand drop-down */\n",
       "  max-height: 200px;\n",
       "  max-width: 100%;\n",
       "  overflow: auto;\n",
       "}\n",
       "\n",
       "#sk-container-id-1 input.sk-toggleable__control:checked~label.sk-toggleable__label-arrow:before {\n",
       "  content: \"▾\";\n",
       "}\n",
       "\n",
       "/* Pipeline/ColumnTransformer-specific style */\n",
       "\n",
       "#sk-container-id-1 div.sk-label input.sk-toggleable__control:checked~label.sk-toggleable__label {\n",
       "  color: var(--sklearn-color-text);\n",
       "  background-color: var(--sklearn-color-unfitted-level-2);\n",
       "}\n",
       "\n",
       "#sk-container-id-1 div.sk-label.fitted input.sk-toggleable__control:checked~label.sk-toggleable__label {\n",
       "  background-color: var(--sklearn-color-fitted-level-2);\n",
       "}\n",
       "\n",
       "/* Estimator-specific style */\n",
       "\n",
       "/* Colorize estimator box */\n",
       "#sk-container-id-1 div.sk-estimator input.sk-toggleable__control:checked~label.sk-toggleable__label {\n",
       "  /* unfitted */\n",
       "  background-color: var(--sklearn-color-unfitted-level-2);\n",
       "}\n",
       "\n",
       "#sk-container-id-1 div.sk-estimator.fitted input.sk-toggleable__control:checked~label.sk-toggleable__label {\n",
       "  /* fitted */\n",
       "  background-color: var(--sklearn-color-fitted-level-2);\n",
       "}\n",
       "\n",
       "#sk-container-id-1 div.sk-label label.sk-toggleable__label,\n",
       "#sk-container-id-1 div.sk-label label {\n",
       "  /* The background is the default theme color */\n",
       "  color: var(--sklearn-color-text-on-default-background);\n",
       "}\n",
       "\n",
       "/* On hover, darken the color of the background */\n",
       "#sk-container-id-1 div.sk-label:hover label.sk-toggleable__label {\n",
       "  color: var(--sklearn-color-text);\n",
       "  background-color: var(--sklearn-color-unfitted-level-2);\n",
       "}\n",
       "\n",
       "/* Label box, darken color on hover, fitted */\n",
       "#sk-container-id-1 div.sk-label.fitted:hover label.sk-toggleable__label.fitted {\n",
       "  color: var(--sklearn-color-text);\n",
       "  background-color: var(--sklearn-color-fitted-level-2);\n",
       "}\n",
       "\n",
       "/* Estimator label */\n",
       "\n",
       "#sk-container-id-1 div.sk-label label {\n",
       "  font-family: monospace;\n",
       "  font-weight: bold;\n",
       "  display: inline-block;\n",
       "  line-height: 1.2em;\n",
       "}\n",
       "\n",
       "#sk-container-id-1 div.sk-label-container {\n",
       "  text-align: center;\n",
       "}\n",
       "\n",
       "/* Estimator-specific */\n",
       "#sk-container-id-1 div.sk-estimator {\n",
       "  font-family: monospace;\n",
       "  border: 1px dotted var(--sklearn-color-border-box);\n",
       "  border-radius: 0.25em;\n",
       "  box-sizing: border-box;\n",
       "  margin-bottom: 0.5em;\n",
       "  /* unfitted */\n",
       "  background-color: var(--sklearn-color-unfitted-level-0);\n",
       "}\n",
       "\n",
       "#sk-container-id-1 div.sk-estimator.fitted {\n",
       "  /* fitted */\n",
       "  background-color: var(--sklearn-color-fitted-level-0);\n",
       "}\n",
       "\n",
       "/* on hover */\n",
       "#sk-container-id-1 div.sk-estimator:hover {\n",
       "  /* unfitted */\n",
       "  background-color: var(--sklearn-color-unfitted-level-2);\n",
       "}\n",
       "\n",
       "#sk-container-id-1 div.sk-estimator.fitted:hover {\n",
       "  /* fitted */\n",
       "  background-color: var(--sklearn-color-fitted-level-2);\n",
       "}\n",
       "\n",
       "/* Specification for estimator info (e.g. \"i\" and \"?\") */\n",
       "\n",
       "/* Common style for \"i\" and \"?\" */\n",
       "\n",
       ".sk-estimator-doc-link,\n",
       "a:link.sk-estimator-doc-link,\n",
       "a:visited.sk-estimator-doc-link {\n",
       "  float: right;\n",
       "  font-size: smaller;\n",
       "  line-height: 1em;\n",
       "  font-family: monospace;\n",
       "  background-color: var(--sklearn-color-background);\n",
       "  border-radius: 1em;\n",
       "  height: 1em;\n",
       "  width: 1em;\n",
       "  text-decoration: none !important;\n",
       "  margin-left: 1ex;\n",
       "  /* unfitted */\n",
       "  border: var(--sklearn-color-unfitted-level-1) 1pt solid;\n",
       "  color: var(--sklearn-color-unfitted-level-1);\n",
       "}\n",
       "\n",
       ".sk-estimator-doc-link.fitted,\n",
       "a:link.sk-estimator-doc-link.fitted,\n",
       "a:visited.sk-estimator-doc-link.fitted {\n",
       "  /* fitted */\n",
       "  border: var(--sklearn-color-fitted-level-1) 1pt solid;\n",
       "  color: var(--sklearn-color-fitted-level-1);\n",
       "}\n",
       "\n",
       "/* On hover */\n",
       "div.sk-estimator:hover .sk-estimator-doc-link:hover,\n",
       ".sk-estimator-doc-link:hover,\n",
       "div.sk-label-container:hover .sk-estimator-doc-link:hover,\n",
       ".sk-estimator-doc-link:hover {\n",
       "  /* unfitted */\n",
       "  background-color: var(--sklearn-color-unfitted-level-3);\n",
       "  color: var(--sklearn-color-background);\n",
       "  text-decoration: none;\n",
       "}\n",
       "\n",
       "div.sk-estimator.fitted:hover .sk-estimator-doc-link.fitted:hover,\n",
       ".sk-estimator-doc-link.fitted:hover,\n",
       "div.sk-label-container:hover .sk-estimator-doc-link.fitted:hover,\n",
       ".sk-estimator-doc-link.fitted:hover {\n",
       "  /* fitted */\n",
       "  background-color: var(--sklearn-color-fitted-level-3);\n",
       "  color: var(--sklearn-color-background);\n",
       "  text-decoration: none;\n",
       "}\n",
       "\n",
       "/* Span, style for the box shown on hovering the info icon */\n",
       ".sk-estimator-doc-link span {\n",
       "  display: none;\n",
       "  z-index: 9999;\n",
       "  position: relative;\n",
       "  font-weight: normal;\n",
       "  right: .2ex;\n",
       "  padding: .5ex;\n",
       "  margin: .5ex;\n",
       "  width: min-content;\n",
       "  min-width: 20ex;\n",
       "  max-width: 50ex;\n",
       "  color: var(--sklearn-color-text);\n",
       "  box-shadow: 2pt 2pt 4pt #999;\n",
       "  /* unfitted */\n",
       "  background: var(--sklearn-color-unfitted-level-0);\n",
       "  border: .5pt solid var(--sklearn-color-unfitted-level-3);\n",
       "}\n",
       "\n",
       ".sk-estimator-doc-link.fitted span {\n",
       "  /* fitted */\n",
       "  background: var(--sklearn-color-fitted-level-0);\n",
       "  border: var(--sklearn-color-fitted-level-3);\n",
       "}\n",
       "\n",
       ".sk-estimator-doc-link:hover span {\n",
       "  display: block;\n",
       "}\n",
       "\n",
       "/* \"?\"-specific style due to the `<a>` HTML tag */\n",
       "\n",
       "#sk-container-id-1 a.estimator_doc_link {\n",
       "  float: right;\n",
       "  font-size: 1rem;\n",
       "  line-height: 1em;\n",
       "  font-family: monospace;\n",
       "  background-color: var(--sklearn-color-background);\n",
       "  border-radius: 1rem;\n",
       "  height: 1rem;\n",
       "  width: 1rem;\n",
       "  text-decoration: none;\n",
       "  /* unfitted */\n",
       "  color: var(--sklearn-color-unfitted-level-1);\n",
       "  border: var(--sklearn-color-unfitted-level-1) 1pt solid;\n",
       "}\n",
       "\n",
       "#sk-container-id-1 a.estimator_doc_link.fitted {\n",
       "  /* fitted */\n",
       "  border: var(--sklearn-color-fitted-level-1) 1pt solid;\n",
       "  color: var(--sklearn-color-fitted-level-1);\n",
       "}\n",
       "\n",
       "/* On hover */\n",
       "#sk-container-id-1 a.estimator_doc_link:hover {\n",
       "  /* unfitted */\n",
       "  background-color: var(--sklearn-color-unfitted-level-3);\n",
       "  color: var(--sklearn-color-background);\n",
       "  text-decoration: none;\n",
       "}\n",
       "\n",
       "#sk-container-id-1 a.estimator_doc_link.fitted:hover {\n",
       "  /* fitted */\n",
       "  background-color: var(--sklearn-color-fitted-level-3);\n",
       "}\n",
       "</style><div id=\"sk-container-id-1\" class=\"sk-top-container\"><div class=\"sk-text-repr-fallback\"><pre>DecisionTreeClassifier(class_weight=&#x27;balanced&#x27;, max_depth=11,\n",
       "                       min_samples_leaf=6, random_state=42)</pre><b>In a Jupyter environment, please rerun this cell to show the HTML representation or trust the notebook. <br />On GitHub, the HTML representation is unable to render, please try loading this page with nbviewer.org.</b></div><div class=\"sk-container\" hidden><div class=\"sk-item\"><div class=\"sk-estimator fitted sk-toggleable\"><input class=\"sk-toggleable__control sk-hidden--visually\" id=\"sk-estimator-id-1\" type=\"checkbox\" checked><label for=\"sk-estimator-id-1\" class=\"sk-toggleable__label fitted sk-toggleable__label-arrow fitted\">&nbsp;&nbsp;DecisionTreeClassifier<a class=\"sk-estimator-doc-link fitted\" rel=\"noreferrer\" target=\"_blank\" href=\"https://scikit-learn.org/1.5/modules/generated/sklearn.tree.DecisionTreeClassifier.html\">?<span>Documentation for DecisionTreeClassifier</span></a><span class=\"sk-estimator-doc-link fitted\">i<span>Fitted</span></span></label><div class=\"sk-toggleable__content fitted\"><pre>DecisionTreeClassifier(class_weight=&#x27;balanced&#x27;, max_depth=11,\n",
       "                       min_samples_leaf=6, random_state=42)</pre></div> </div></div></div></div>"
      ],
      "text/plain": [
       "DecisionTreeClassifier(class_weight='balanced', max_depth=11,\n",
       "                       min_samples_leaf=6, random_state=42)"
      ]
     },
     "execution_count": 11,
     "metadata": {},
     "output_type": "execute_result"
    }
   ],
   "source": [
    "# Train the model\n",
    "DT_model.fit(X_train_st, y_train_st)"
   ]
  },
  {
   "cell_type": "markdown",
   "id": "5acb0943",
   "metadata": {
    "id": "5acb0943"
   },
   "source": [
    "Now, let's make the predictions on the train and test data."
   ]
  },
  {
   "cell_type": "code",
   "execution_count": 12,
   "id": "6a742c4e",
   "metadata": {
    "id": "6a742c4e",
    "outputId": "d7c36aea-f59b-4762-a22d-15bf29826ec4"
   },
   "outputs": [
    {
     "name": "stdout",
     "output_type": "stream",
     "text": [
      "Train score:  0.8870789957134109\n",
      "Test score:  0.8261986301369864\n"
     ]
    }
   ],
   "source": [
    "from sklearn.metrics import f1_score\n",
    "\n",
    "# Make predictions on the train dataset\n",
    "y_train_pred = DT_model.predict(X_train_st)\n",
    "\n",
    "# Make predictions on the test dataset\n",
    "y_test_pred = DT_model.predict(X_test_st)\n",
    "\n",
    "# Let's display the model performance on the train and test data.\n",
    "\n",
    "print('Train score: ', f1_score(y_train_st, y_train_pred))\n",
    "print('Test score: ', f1_score(y_test_st, y_test_pred))"
   ]
  },
  {
   "cell_type": "markdown",
   "id": "0fcfafbb",
   "metadata": {
    "id": "0fcfafbb"
   },
   "source": [
    "---"
   ]
  },
  {
   "cell_type": "markdown",
   "id": "e4adaab1",
   "metadata": {
    "id": "e4adaab1"
   },
   "source": [
    "### Undersampling"
   ]
  },
  {
   "cell_type": "markdown",
   "id": "3e0d18d0",
   "metadata": {
    "id": "3e0d18d0"
   },
   "source": [
    "Now that we have implemented the tricks to handle class imbalance, let's dive deeper to understand how to balance the dataset using undersampling and oversampling techniques. First, let's do undersampling!\n",
    "\n",
    "To do so, we have to first install a ski-kit learn library called 'imblearn'. It is specifically designed to deal with imbalanced datasets and help us seamlessly implement various methods like undersampling, oversampling, and SMOTE etc. Write the following code to install the same!"
   ]
  },
  {
   "cell_type": "code",
   "execution_count": null,
   "id": "1f6878c8",
   "metadata": {
    "scrolled": true
   },
   "outputs": [],
   "source": [
    "#pip install --upgrade scikit-learn imbalanced-learn"
   ]
  },
  {
   "cell_type": "code",
   "execution_count": 13,
   "id": "93921b1d",
   "metadata": {
    "id": "d624ec6b",
    "scrolled": true
   },
   "outputs": [
    {
     "name": "stdout",
     "output_type": "stream",
     "text": [
      "Defaulting to user installation because normal site-packages is not writeable\n",
      "Collecting imblearn\n",
      "  Downloading imblearn-0.0-py2.py3-none-any.whl (1.9 kB)\n",
      "Collecting imbalanced-learn\n",
      "  Downloading imbalanced_learn-0.13.0-py3-none-any.whl (238 kB)\n",
      "     -------------------------------------- 238.4/238.4 kB 2.1 MB/s eta 0:00:00\n",
      "Requirement already satisfied: numpy<3,>=1.24.3 in c:\\users\\20805973\\appdata\\roaming\\python\\python311\\site-packages (from imbalanced-learn->imblearn) (1.25.0)\n",
      "Requirement already satisfied: scipy<2,>=1.10.1 in c:\\users\\20805973\\appdata\\roaming\\python\\python311\\site-packages (from imbalanced-learn->imblearn) (1.11.4)\n",
      "Requirement already satisfied: scikit-learn<2,>=1.3.2 in c:\\users\\20805973\\appdata\\roaming\\python\\python311\\site-packages (from imbalanced-learn->imblearn) (1.5.2)\n",
      "Collecting sklearn-compat<1,>=0.1\n",
      "  Downloading sklearn_compat-0.1.3-py3-none-any.whl (18 kB)\n",
      "Requirement already satisfied: joblib<2,>=1.1.1 in c:\\users\\20805973\\appdata\\roaming\\python\\python311\\site-packages (from imbalanced-learn->imblearn) (1.4.2)\n",
      "Requirement already satisfied: threadpoolctl<4,>=2.0.0 in c:\\users\\20805973\\appdata\\roaming\\python\\python311\\site-packages (from imbalanced-learn->imblearn) (3.5.0)\n",
      "Installing collected packages: sklearn-compat, imbalanced-learn, imblearn\n",
      "Successfully installed imbalanced-learn-0.13.0 imblearn-0.0 sklearn-compat-0.1.3\n"
     ]
    },
    {
     "name": "stderr",
     "output_type": "stream",
     "text": [
      "\n",
      "[notice] A new release of pip available: 22.3.1 -> 25.0\n",
      "[notice] To update, run: python.exe -m pip install --upgrade pip\n"
     ]
    }
   ],
   "source": [
    "!pip install imblearn"
   ]
  },
  {
   "cell_type": "markdown",
   "id": "c5f71c50",
   "metadata": {
    "id": "c5f71c50"
   },
   "source": [
    "Once the library is installed, let's import RandomUnderSampler from imblearn.under_sampling"
   ]
  },
  {
   "cell_type": "code",
   "execution_count": 14,
   "id": "6381ea38",
   "metadata": {
    "id": "6381ea38"
   },
   "outputs": [],
   "source": [
    "from imblearn.under_sampling import RandomUnderSampler"
   ]
  },
  {
   "cell_type": "markdown",
   "id": "8ca16934",
   "metadata": {
    "id": "8ca16934"
   },
   "source": [
    "Now, let's resample the training data and build the decision tree with the resampled data."
   ]
  },
  {
   "cell_type": "code",
   "execution_count": 15,
   "id": "fa7d5348",
   "metadata": {
    "id": "fa7d5348"
   },
   "outputs": [],
   "source": [
    "sampler = RandomUnderSampler(random_state = 42)\n",
    "X_train_rus, y_train_rus = sampler.fit_resample(X_train, y_train)"
   ]
  },
  {
   "cell_type": "code",
   "execution_count": 16,
   "id": "31e0d0ac",
   "metadata": {
    "id": "31e0d0ac",
    "outputId": "0e1591b4-1f6a-4dd8-bdd3-cce61eb7a12c",
    "scrolled": true
   },
   "outputs": [
    {
     "name": "stdout",
     "output_type": "stream",
     "text": [
      "0    0.5\n",
      "1    0.5\n",
      "Name: Units_sold>1000, dtype: float64\n"
     ]
    }
   ],
   "source": [
    "print(y_train_rus.value_counts(normalize = True))"
   ]
  },
  {
   "cell_type": "markdown",
   "id": "6f2488f2",
   "metadata": {
    "id": "6f2488f2"
   },
   "source": [
    "As you can see from the ratios, the class distribution is equal now due to random undersampling.\n",
    "Let's build the model using these modified training data and see its performance!"
   ]
  },
  {
   "cell_type": "code",
   "execution_count": 17,
   "id": "d88cfd96",
   "metadata": {
    "id": "d88cfd96",
    "outputId": "dddcf0fc-76b1-4082-850e-c72977bfea06"
   },
   "outputs": [
    {
     "name": "stdout",
     "output_type": "stream",
     "text": [
      "Train F1 Score:  0.8667085539897675\n",
      "Test F1 Score:  0.8229858504187121\n"
     ]
    }
   ],
   "source": [
    "DT_model = DecisionTreeClassifier(max_depth = 11, min_samples_leaf= 6, random_state=42)\n",
    "\n",
    "DT_model.fit(X_train_rus, y_train_rus)\n",
    "\n",
    "y_train_pred = DT_model.predict(X_train_rus)\n",
    "y_pred = DT_model.predict(X_test)\n",
    "\n",
    "\n",
    "print('Train F1 Score: ', f1_score(y_train_rus, y_train_pred))\n",
    "print('Test F1 Score: ', f1_score(y_test, y_pred))"
   ]
  },
  {
   "cell_type": "markdown",
   "id": "a1cf6d86",
   "metadata": {
    "id": "a1cf6d86"
   },
   "source": [
    "As you can see, the model performance has deteriorated slightly. This is because, in undersampling instances from the majority class are  randomly removed and this may lead to loss of information. Let's try random oversampling now."
   ]
  },
  {
   "cell_type": "markdown",
   "id": "57e84067",
   "metadata": {
    "id": "57e84067"
   },
   "source": [
    "### Random oversampling\n",
    "\n",
    "Performing random oversampling involves doing the same steps like we did for random undersampler. However, the only difference is we have to import RandomOverSampler from imblearn.over_sampling and build the model."
   ]
  },
  {
   "cell_type": "code",
   "execution_count": 18,
   "id": "265e65e6",
   "metadata": {
    "id": "265e65e6"
   },
   "outputs": [],
   "source": [
    "from imblearn.over_sampling import RandomOverSampler"
   ]
  },
  {
   "cell_type": "markdown",
   "id": "066b27e2",
   "metadata": {
    "id": "066b27e2"
   },
   "source": [
    "Let's perform resampling of the orginial data."
   ]
  },
  {
   "cell_type": "code",
   "execution_count": 19,
   "id": "0b41fce8",
   "metadata": {
    "id": "0b41fce8"
   },
   "outputs": [],
   "source": [
    "sampler = RandomOverSampler(random_state = 42)\n",
    "X_train_ros, y_train_ros = sampler.fit_resample(X_train, y_train)"
   ]
  },
  {
   "cell_type": "markdown",
   "id": "9acfc42e",
   "metadata": {
    "id": "9acfc42e"
   },
   "source": [
    "Once random oversampling is done we can quickly check if the ratio of the classes are equal now."
   ]
  },
  {
   "cell_type": "code",
   "execution_count": 20,
   "id": "39cdfe36",
   "metadata": {
    "id": "39cdfe36",
    "outputId": "029ee433-4c62-4dc2-c62d-a225ac10cd8a"
   },
   "outputs": [
    {
     "data": {
      "text/plain": [
       "1    0.5\n",
       "0    0.5\n",
       "Name: Units_sold>1000, dtype: float64"
      ]
     },
     "execution_count": 20,
     "metadata": {},
     "output_type": "execute_result"
    }
   ],
   "source": [
    "y_train_ros.value_counts(normalize = True)"
   ]
  },
  {
   "cell_type": "markdown",
   "id": "15e2e8d6",
   "metadata": {
    "id": "15e2e8d6"
   },
   "source": [
    "As you can see, it's equal. Let's go to the next stepn and build the model now."
   ]
  },
  {
   "cell_type": "code",
   "execution_count": 21,
   "id": "61ae8273",
   "metadata": {
    "id": "61ae8273",
    "outputId": "c2a6b1b9-27dd-4e43-8f9f-b52896329be2"
   },
   "outputs": [
    {
     "name": "stdout",
     "output_type": "stream",
     "text": [
      "Train F1 Score:  0.8634057971014493\n",
      "Test F1 Score:  0.8295983086680762\n"
     ]
    }
   ],
   "source": [
    "DT_model = DecisionTreeClassifier(max_depth = 11, min_samples_leaf= 6, random_state=42)\n",
    "\n",
    "DT_model.fit(X_train_ros, y_train_ros)\n",
    "\n",
    "y_train_pred = DT_model.predict(X_train_ros)\n",
    "y_pred = DT_model.predict(X_test)\n",
    "\n",
    "y_train_pred = DT_model.predict(X_train_ros)\n",
    "y_pred = DT_model.predict(X_test)\n",
    "\n",
    "# Printing the F1 score of the train and test data\n",
    "print('Train F1 Score: ', f1_score(y_train_ros, y_train_pred))\n",
    "print('Test F1 Score: ', f1_score(y_test, y_pred))"
   ]
  },
  {
   "cell_type": "markdown",
   "id": "d4bfc9fd",
   "metadata": {
    "id": "d4bfc9fd"
   },
   "source": [
    "As you can see, this performance is slightly better compared to the undersampling scenario as no information has been removed from the dataset. Let's try impleting anotherv oversampling technique which is SMOTE."
   ]
  },
  {
   "cell_type": "markdown",
   "id": "1d5d9b38",
   "metadata": {
    "id": "1d5d9b38"
   },
   "source": [
    "#### SMOTE"
   ]
  },
  {
   "cell_type": "markdown",
   "id": "ebc14099",
   "metadata": {
    "id": "ebc14099"
   },
   "source": [
    "let's starts by importing the SMOTE (Synthetic Minority Over-sampling Technique) method from the imblearn.over_sampling module."
   ]
  },
  {
   "cell_type": "code",
   "execution_count": 22,
   "id": "06ff675a",
   "metadata": {
    "id": "06ff675a"
   },
   "outputs": [],
   "source": [
    "from imblearn.over_sampling import SMOTE"
   ]
  },
  {
   "cell_type": "markdown",
   "id": "4fce1a99",
   "metadata": {
    "id": "4fce1a99"
   },
   "source": [
    "Next, SMOTE is initialized with a random seed for reproducibility."
   ]
  },
  {
   "cell_type": "code",
   "execution_count": 23,
   "id": "9f8867ba",
   "metadata": {
    "id": "9f8867ba"
   },
   "outputs": [],
   "source": [
    "smote = SMOTE(random_state = 42)"
   ]
  },
  {
   "cell_type": "markdown",
   "id": "0708b4bf",
   "metadata": {
    "id": "0708b4bf"
   },
   "source": [
    "SMOTE is applied to the training data resulting in oversampled training data."
   ]
  },
  {
   "cell_type": "code",
   "execution_count": 24,
   "id": "132a0e81",
   "metadata": {
    "id": "132a0e81"
   },
   "outputs": [],
   "source": [
    "X_train_smt, y_train_smt = smote.fit_resample(X_train,y_train)"
   ]
  },
  {
   "cell_type": "markdown",
   "id": "675e29aa",
   "metadata": {
    "id": "675e29aa"
   },
   "source": [
    "Let's quickly check the ratio of the classes in the training data."
   ]
  },
  {
   "cell_type": "code",
   "execution_count": 25,
   "id": "7f94eb7c",
   "metadata": {
    "id": "7f94eb7c",
    "outputId": "caae9fa7-fa2e-4752-f7e7-9c5ec8cfc4a6"
   },
   "outputs": [
    {
     "data": {
      "text/plain": [
       "1    0.5\n",
       "0    0.5\n",
       "Name: Units_sold>1000, dtype: float64"
      ]
     },
     "execution_count": 25,
     "metadata": {},
     "output_type": "execute_result"
    }
   ],
   "source": [
    "y_train_smt.value_counts(normalize = True)"
   ]
  },
  {
   "cell_type": "markdown",
   "id": "eacf804b",
   "metadata": {
    "id": "eacf804b"
   },
   "source": [
    "Let's build the decision tree model using the oversampled training data."
   ]
  },
  {
   "cell_type": "code",
   "execution_count": 26,
   "id": "dd73281a",
   "metadata": {
    "id": "dd73281a",
    "outputId": "cfb87bac-f003-40e7-8577-404f9e5d6470"
   },
   "outputs": [
    {
     "name": "stdout",
     "output_type": "stream",
     "text": [
      "Training F1 score:  0.862752248966691\n",
      "Testing F1 score:  0.832123024348569\n"
     ]
    }
   ],
   "source": [
    "DT_model = DecisionTreeClassifier(max_depth = 11, min_samples_leaf= 6, random_state=42)\n",
    "DT_model.fit(X_train_smt, y_train_smt)\n",
    "\n",
    "\n",
    "#Making predictions\n",
    "y_train_pred = DT_model.predict(X_train_smt)\n",
    "y_pred = DT_model.predict(X_test)\n",
    "\n",
    "#Evaluating the model\n",
    "print('Training F1 score: ', f1_score(y_train_smt, y_train_pred))\n",
    "print('Testing F1 score: ', f1_score(y_test, y_pred))"
   ]
  },
  {
   "cell_type": "markdown",
   "id": "f9a70cde",
   "metadata": {
    "id": "f9a70cde"
   },
   "source": [
    "As you can see, in this scenario, with SMOTE, the model performance is similar to random oversampling. As we know, iterating different techniques is an essential part of machine learning model building process. So  it is advisable to try out different techniques and tools to get the best performance.  In the next video, we will compare the performance of all the models that we have built so far. So see you in the next one!"
   ]
  },
  {
   "cell_type": "code",
   "execution_count": null,
   "id": "eb5021b9",
   "metadata": {
    "id": "eb5021b9"
   },
   "outputs": [],
   "source": []
  }
 ],
 "metadata": {
  "colab": {
   "provenance": []
  },
  "kernelspec": {
   "display_name": "Python 3",
   "language": "python",
   "name": "python3"
  },
  "language_info": {
   "codemirror_mode": {
    "name": "ipython",
    "version": 3
   },
   "file_extension": ".py",
   "mimetype": "text/x-python",
   "name": "python",
   "nbconvert_exporter": "python",
   "pygments_lexer": "ipython3",
   "version": "3.11.1"
  }
 },
 "nbformat": 4,
 "nbformat_minor": 5
}
